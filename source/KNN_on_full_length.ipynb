{
 "cells": [
  {
   "cell_type": "code",
   "execution_count": 6,
   "id": "0e4f748b-6720-4b37-b0cf-66c1bbd13042",
   "metadata": {},
   "outputs": [
    {
     "data": {
      "text/plain": [
       "<module 'fileDistanceProcessing' from '/home/marko/Desktop/ip2/ip2_projekat/source/fileDistanceProcessing.py'>"
      ]
     },
     "execution_count": 6,
     "metadata": {},
     "output_type": "execute_result"
    }
   ],
   "source": [
    "import pandas as pd\n",
    "import importlib\n",
    "import fileDistanceProcessing as fdp\n",
    "import importlib\n",
    "importlib.reload(fdp) "
   ]
  },
  {
   "cell_type": "code",
   "execution_count": 7,
   "id": "7cb7dbf3-7e97-478b-8d38-e226a0feb01b",
   "metadata": {},
   "outputs": [],
   "source": [
    "X=pd.read_csv(\"../data/csv/sars2_mers_sars1.txt\",skipinitialspace = True )"
   ]
  },
  {
   "cell_type": "code",
   "execution_count": 8,
   "id": "19483a8e-0a30-45ae-a810-de4db21761e7",
   "metadata": {},
   "outputs": [
    {
     "data": {
      "text/plain": [
       "Index(['Virus', 'ACCESSION', 'WHO_TYPE', 'ACCESSION_PROT', 'PROTEIN',\n",
       "       'DUZINA_NUC', 'KOD_NUC'],\n",
       "      dtype='object')"
      ]
     },
     "execution_count": 8,
     "metadata": {},
     "output_type": "execute_result"
    }
   ],
   "source": [
    "X.columns = X.columns.str.strip()\n",
    "X.columns"
   ]
  },
  {
   "cell_type": "code",
   "execution_count": 9,
   "id": "f5793896-e49a-484f-8c2d-d46c9f9b4414",
   "metadata": {},
   "outputs": [],
   "source": [
    "from sklearn.model_selection import train_test_split\n",
    "from sklearn.neighbors import KNeighborsClassifier\n",
    "from sklearn.metrics import accuracy_score, confusion_matrix"
   ]
  },
  {
   "cell_type": "code",
   "execution_count": 10,
   "id": "18679ca9-50b8-4e80-8fe5-cebabd888b03",
   "metadata": {},
   "outputs": [],
   "source": [
    "import pickle\n",
    "import os\n",
    "from zipfile import ZipFile\n",
    "\n",
    "#raspakuj arhivu\n",
    "with ZipFile(\"../data/full_distances_matrix.zip\",'r') as zip:\n",
    "    zip.extractall(\"..\")"
   ]
  },
  {
   "cell_type": "code",
   "execution_count": 11,
   "id": "57469684-3957-47a2-9351-dc70280a43d3",
   "metadata": {},
   "outputs": [],
   "source": [
    "# upcitaj matricu distanci\n",
    "with open(\"../data/full_distances_matrix\", \"rb\") as infile:\n",
    "     \tdistances = pickle.load(infile)\n",
    "\n",
    "os.remove(\"../data/full_distances_matrix\")"
   ]
  },
  {
   "cell_type": "code",
   "execution_count": 12,
   "id": "14637490-02f2-4465-8e3b-8e06f5c788ec",
   "metadata": {},
   "outputs": [],
   "source": [
    "# metrika zasnovana samo na 5-adic distanci\n",
    "# instant racunanje iz matrice\n",
    "def five_adic_distance_from_matrix(x, y):\n",
    "    \n",
    "    i = int(x[-1]) #indeks je na poslednjem mestu u listi\n",
    "    j = int(y[-1])\n",
    "\n",
    "    # matrica je u obliku trougla bez dijagonale originalne matrice\n",
    "    first = min(i, j)\n",
    "    second = max(i, j) - (first + 1) # veci indeks smanji za broj instanci u redu matrice do dijagonale \n",
    "\n",
    "    return 0 if i == j else distances[first][second] #udaljenost x od y"
   ]
  },
  {
   "cell_type": "code",
   "execution_count": 13,
   "id": "bf692f98-3577-45e3-a42b-2af176219372",
   "metadata": {},
   "outputs": [],
   "source": [
    "y_virus=X[\"Virus\"]\n",
    "X_virus=[] # potreban nam je samo indeks\n",
    "\n",
    "# na svaku instancu X_virus smo appendovali njen index\n",
    "for i in range(len(y_virus)):\n",
    "    X_virus.append([0, i]) # 0 je dodata zbog knn da ne pravi problem\n",
    "    \n",
    "X_train, X_test, y_train, y_test = train_test_split(X_virus, y_virus, test_size=0.33, stratify=y_virus)"
   ]
  },
  {
   "cell_type": "code",
   "execution_count": 14,
   "id": "31bbcc0c-0f1e-42cf-a998-df54638b7f72",
   "metadata": {},
   "outputs": [],
   "source": [
    "from sklearn.metrics import accuracy_score, confusion_matrix\n",
    "\n",
    "def perform_and_evaluate_knn(k, metric):\n",
    "    model = KNeighborsClassifier(n_neighbors=k, algorithm='ball_tree', metric=metric)\n",
    "    model.fit(X_train, y_train)\n",
    "\n",
    "    y_pred=model.predict(X_test)\n",
    "    print(f'model evalutaion for k={k} and metric={str(metric)}')\n",
    "    print(f'accuracy_score: {accuracy_score(y_test,y_pred)}')\n",
    "    print(confusion_matrix(y_test,y_pred))"
   ]
  },
  {
   "cell_type": "code",
   "execution_count": 15,
   "id": "a80c9f47-6453-4f26-913f-88c6efd9316f",
   "metadata": {},
   "outputs": [
    {
     "name": "stdout",
     "output_type": "stream",
     "text": [
      "model evalutaion for k=3 and metric=<function five_adic_distance_from_matrix at 0x7f85d4a04ca0>\n",
      "accuracy_score: 0.9988524213908653\n",
      "[[ 610    0    1]\n",
      " [   0    2    4]\n",
      " [   0    0 3740]]\n"
     ]
    }
   ],
   "source": [
    "perform_and_evaluate_knn(3, five_adic_distance_from_matrix)"
   ]
  },
  {
   "cell_type": "code",
   "execution_count": 16,
   "id": "53d8bc1d-850d-4e1e-b229-ff758663b74d",
   "metadata": {},
   "outputs": [],
   "source": [
    "y_protein = X[\"PROTEIN\"]\n",
    "X_protein = X_virus"
   ]
  },
  {
   "cell_type": "code",
   "execution_count": 17,
   "id": "a507d99f-3872-44bb-8b78-171a339176e8",
   "metadata": {},
   "outputs": [],
   "source": [
    "X_train, X_test, y_train, y_test = train_test_split(X_protein, y_protein, test_size=0.33, stratify=y_virus)"
   ]
  },
  {
   "cell_type": "code",
   "execution_count": 18,
   "id": "2b75fdb3-4e2a-4183-8389-7eec816f2962",
   "metadata": {},
   "outputs": [
    {
     "name": "stdout",
     "output_type": "stream",
     "text": [
      "model evalutaion for k=3 and metric=<function five_adic_distance_from_matrix at 0x7f85d4a04ca0>\n",
      "accuracy_score: 0.9995409685563461\n",
      "[[1405    0    0    0    0    0    0    0    0    0    0    0    0    0\n",
      "     0    0    0]\n",
      " [   0 1878    0    0    0    0    0    0    0    0    0    0    0    0\n",
      "     0    0    0]\n",
      " [   0    0    1    0    0    0    0    0    0    0    0    0    0    0\n",
      "     0    0    0]\n",
      " [   0    0    0   43    0    0    0    0    0    0    0    0    0    0\n",
      "     0    0    0]\n",
      " [   0    0    0    0   65    0    0    0    0    0    0    0    0    0\n",
      "     0    0    0]\n",
      " [   0    0    0    0    0   18    0    0    0    0    0    0    0    0\n",
      "     0    0    0]\n",
      " [   0    0    0    0    0    0   38    1    0    0    0    0    0    0\n",
      "     0    0    0]\n",
      " [   0    0    0    0    0    0    1   39    0    0    0    0    0    0\n",
      "     0    0    0]\n",
      " [   0    0    0    0    0    0    0    0    3    0    0    0    0    0\n",
      "     0    0    0]\n",
      " [   0    0    0    0    0    0    0    0    0    9    0    0    0    0\n",
      "     0    0    0]\n",
      " [   0    0    0    0    0    0    0    0    0    0    2    0    0    0\n",
      "     0    0    0]\n",
      " [   0    0    0    0    0    0    0    0    0    0    0   20    0    0\n",
      "     0    0    0]\n",
      " [   0    0    0    0    0    0    0    0    0    0    0    0   21    0\n",
      "     0    0    0]\n",
      " [   0    0    0    0    0    0    0    0    0    0    0    0    0   16\n",
      "     0    0    0]\n",
      " [   0    0    0    0    0    0    0    0    0    0    0    0    0    0\n",
      "    55    0    0]\n",
      " [   0    0    0    0    0    0    0    0    0    0    0    0    0    0\n",
      "     0  204    0]\n",
      " [   0    0    0    0    0    0    0    0    0    0    0    0    0    0\n",
      "     0    0  538]]\n"
     ]
    }
   ],
   "source": [
    "perform_and_evaluate_knn(3, five_adic_distance_from_matrix)"
   ]
  },
  {
   "cell_type": "code",
   "execution_count": 19,
   "id": "8160c119-fa1f-455f-86bf-9b9ea45d2f84",
   "metadata": {},
   "outputs": [],
   "source": [
    "import numpy as np\n",
    "\n",
    "virusTypes = np.array(X['Virus'])\n",
    "X_who = []\n",
    "indexes = []\n",
    "for i in range(len(virusTypes)):\n",
    "    if(virusTypes[i].strip() == \"SARS_COV_2\"):\n",
    "        X_who.append([0, i])\n",
    "        indexes.append(i)\n",
    "\n",
    "sars2_only = X.filter(items=indexes, axis=0)"
   ]
  },
  {
   "cell_type": "code",
   "execution_count": 20,
   "id": "6c242b27-c6a0-4e18-a658-fe43bfc9614d",
   "metadata": {},
   "outputs": [],
   "source": [
    "y_who=sars2_only[\"WHO_TYPE\"].str.strip()\n",
    "\n",
    "X_train, X_test, y_train, y_test = train_test_split(X_who, y_who, test_size=0.33, stratify=y_who)"
   ]
  },
  {
   "cell_type": "code",
   "execution_count": 21,
   "id": "8bec54bf-9655-48f8-ac4e-1a217bdf4c37",
   "metadata": {},
   "outputs": [
    {
     "name": "stdout",
     "output_type": "stream",
     "text": [
      "model evalutaion for k=3 and metric=<function five_adic_distance_from_matrix at 0x7f85d4a04ca0>\n",
      "accuracy_score: 0.9657754010695188\n",
      "[[478   3   1   3   0   1   2   0   0   0   0   0   7]\n",
      " [  0 186   0   1   0   0   3   0   0   0   1   0   2]\n",
      " [  4   1 478   1   0   0   2   2   0   0   2   0   5]\n",
      " [  0   5   1 485   0   0   1   0   0   1   2   0   0]\n",
      " [  3   2   0   0 197   1   0   0   0   0   1   0   3]\n",
      " [  3   1   0   4   0 481   1   0   0   0   4   1   0]\n",
      " [  0   0   1   2   0   1 488   0   0   0   3   0   0]\n",
      " [  1   1   2   0   0   0   1  47   0   0   0   0   0]\n",
      " [  0   1   1   0   0   1   2   0 127   0   0   0   3]\n",
      " [  1   2   0   2   0   0   1   0   0  16   0   0   0]\n",
      " [  7   3   6   2   0   0   3   0   1   0 473   0   0]\n",
      " [  0   0   1   0   0   0   0   0   0   0   1   5   0]\n",
      " [  0   1   2   0   0   0   0   0   0   0   0   0 151]]\n"
     ]
    }
   ],
   "source": [
    "perform_and_evaluate_knn(3, five_adic_distance_from_matrix)"
   ]
  },
  {
   "cell_type": "code",
   "execution_count": null,
   "id": "ecec4805-a663-49bd-b1b3-1e79076ba3b6",
   "metadata": {},
   "outputs": [],
   "source": []
  }
 ],
 "metadata": {
  "kernelspec": {
   "display_name": "Python 3 (ipykernel)",
   "language": "python",
   "name": "python3"
  },
  "language_info": {
   "codemirror_mode": {
    "name": "ipython",
    "version": 3
   },
   "file_extension": ".py",
   "mimetype": "text/x-python",
   "name": "python",
   "nbconvert_exporter": "python",
   "pygments_lexer": "ipython3",
   "version": "3.8.10"
  }
 },
 "nbformat": 4,
 "nbformat_minor": 5
}
