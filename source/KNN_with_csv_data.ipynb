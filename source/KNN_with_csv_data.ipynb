{
 "cells": [
  {
   "cell_type": "code",
   "execution_count": 1,
   "id": "4c03d9a1",
   "metadata": {},
   "outputs": [
    {
     "data": {
      "text/plain": [
       "<module 'fileDistanceProcessing' from '/home/marko/Desktop/ip2/ip2_projekat/source/fileDistanceProcessing.py'>"
      ]
     },
     "execution_count": 1,
     "metadata": {},
     "output_type": "execute_result"
    }
   ],
   "source": [
    "import pandas as pd\n",
    "import importlib\n",
    "import fileDistanceProcessing as fdp\n",
    "import importlib\n",
    "importlib.reload(fdp) "
   ]
  },
  {
   "cell_type": "code",
   "execution_count": 2,
   "id": "e8d9fbb0",
   "metadata": {},
   "outputs": [],
   "source": [
    "X=pd.read_csv(\"../data/csv/sars2_mers_sars1.txt\",skipinitialspace = True )"
   ]
  },
  {
   "cell_type": "code",
   "execution_count": 3,
   "id": "cff1dbb5",
   "metadata": {},
   "outputs": [
    {
     "data": {
      "text/plain": [
       "Index(['Virus', 'ACCESSION', 'WHO_TYPE', 'ACCESSION_PROT', 'PROTEIN',\n",
       "       'DUZINA_NUC', 'KOD_NUC'],\n",
       "      dtype='object')"
      ]
     },
     "execution_count": 3,
     "metadata": {},
     "output_type": "execute_result"
    }
   ],
   "source": [
    "X.columns = X.columns.str.strip()\n",
    "X.columns"
   ]
  },
  {
   "cell_type": "code",
   "execution_count": 4,
   "id": "1d5c20ba",
   "metadata": {},
   "outputs": [
    {
     "data": {
      "text/html": [
       "<div>\n",
       "<style scoped>\n",
       "    .dataframe tbody tr th:only-of-type {\n",
       "        vertical-align: middle;\n",
       "    }\n",
       "\n",
       "    .dataframe tbody tr th {\n",
       "        vertical-align: top;\n",
       "    }\n",
       "\n",
       "    .dataframe thead th {\n",
       "        text-align: right;\n",
       "    }\n",
       "</style>\n",
       "<table border=\"1\" class=\"dataframe\">\n",
       "  <thead>\n",
       "    <tr style=\"text-align: right;\">\n",
       "      <th></th>\n",
       "      <th>Virus</th>\n",
       "      <th>ACCESSION</th>\n",
       "      <th>WHO_TYPE</th>\n",
       "      <th>ACCESSION_PROT</th>\n",
       "      <th>PROTEIN</th>\n",
       "      <th>DUZINA_NUC</th>\n",
       "      <th>KOD_NUC</th>\n",
       "    </tr>\n",
       "  </thead>\n",
       "  <tbody>\n",
       "    <tr>\n",
       "      <th>0</th>\n",
       "      <td>SARS_COV_2</td>\n",
       "      <td>LC636493.1</td>\n",
       "      <td>Alpha</td>\n",
       "      <td>BCY15809.1</td>\n",
       "      <td>ORF1ab polyprotein                            ...</td>\n",
       "      <td>21279</td>\n",
       "      <td>ATGGAGAGCCTTGTCCCTGGTTTCAACGAGAAAACACACGTCCAAC...</td>\n",
       "    </tr>\n",
       "    <tr>\n",
       "      <th>1</th>\n",
       "      <td>SARS_COV_2</td>\n",
       "      <td>LC638682.1</td>\n",
       "      <td>Alpha</td>\n",
       "      <td>BCZ16426.1</td>\n",
       "      <td>ORF1ab polyprotein                            ...</td>\n",
       "      <td>21279</td>\n",
       "      <td>ATGGAGAGCCTTGTCCCTGGTTTCAACGAGAAAACACACGTCCAAC...</td>\n",
       "    </tr>\n",
       "    <tr>\n",
       "      <th>2</th>\n",
       "      <td>SARS_COV_2</td>\n",
       "      <td>BS001166.1</td>\n",
       "      <td>Alpha</td>\n",
       "      <td>BDB07859.1</td>\n",
       "      <td>ORF1ab polyprotein                            ...</td>\n",
       "      <td>21279</td>\n",
       "      <td>ATGGAGAGCTTTGTCCCTGGTTTCAACGAGAAAACACACGTCCAAC...</td>\n",
       "    </tr>\n",
       "    <tr>\n",
       "      <th>3</th>\n",
       "      <td>SARS_COV_2</td>\n",
       "      <td>BS001219.1</td>\n",
       "      <td>Alpha</td>\n",
       "      <td>BDB46179.1</td>\n",
       "      <td>ORF1ab polyprotein                            ...</td>\n",
       "      <td>21279</td>\n",
       "      <td>ATGGAGAGCCTTGTCCCTGGTTTCAACGAGAAAACACACGTCCAAC...</td>\n",
       "    </tr>\n",
       "    <tr>\n",
       "      <th>4</th>\n",
       "      <td>SARS_COV_2</td>\n",
       "      <td>BS001143.1</td>\n",
       "      <td>Alpha</td>\n",
       "      <td>BDA77043.1</td>\n",
       "      <td>ORF1ab polyprotein                            ...</td>\n",
       "      <td>21279</td>\n",
       "      <td>ATGGAGAGCCTTGTCCCTGGTTTCAACGAGAAAACACACGTCCAAC...</td>\n",
       "    </tr>\n",
       "    <tr>\n",
       "      <th>5</th>\n",
       "      <td>SARS_COV_2</td>\n",
       "      <td>BS001382.1</td>\n",
       "      <td>Alpha</td>\n",
       "      <td>BDD78230.1</td>\n",
       "      <td>ORF1a polyprotein                             ...</td>\n",
       "      <td>13206</td>\n",
       "      <td>ATGGAGAGCCTTGTCCCTGGTTTCAACGAGAAAACACACGTCCAAC...</td>\n",
       "    </tr>\n",
       "    <tr>\n",
       "      <th>6</th>\n",
       "      <td>SARS_COV_2</td>\n",
       "      <td>BS001191.1</td>\n",
       "      <td>Alpha</td>\n",
       "      <td>BDB08160.1</td>\n",
       "      <td>ORF1a polyprotein                             ...</td>\n",
       "      <td>13206</td>\n",
       "      <td>ATGGAGAGCCTTGTCCCTGGTTTCAACGAGAAAACACACGTCCAAC...</td>\n",
       "    </tr>\n",
       "    <tr>\n",
       "      <th>7</th>\n",
       "      <td>SARS_COV_2</td>\n",
       "      <td>BS001144.1</td>\n",
       "      <td>Alpha</td>\n",
       "      <td>BDA77055.1</td>\n",
       "      <td>ORF1ab polyprotein                            ...</td>\n",
       "      <td>21279</td>\n",
       "      <td>ATGGAGAGCCTTGTCCCTGGTTTCAACGAGAAAACACACGTCCAAC...</td>\n",
       "    </tr>\n",
       "    <tr>\n",
       "      <th>8</th>\n",
       "      <td>SARS_COV_2</td>\n",
       "      <td>BS001171.1</td>\n",
       "      <td>Alpha</td>\n",
       "      <td>BDB07919.1</td>\n",
       "      <td>ORF1ab polyprotein                            ...</td>\n",
       "      <td>21279</td>\n",
       "      <td>ATGGAGAGCCTTGTCCCTGGTTTCAACGAGAAAACACACGTCCAAC...</td>\n",
       "    </tr>\n",
       "    <tr>\n",
       "      <th>9</th>\n",
       "      <td>SARS_COV_2</td>\n",
       "      <td>BS001200.1</td>\n",
       "      <td>Alpha</td>\n",
       "      <td>BDB45952.1</td>\n",
       "      <td>ORF1a polyprotein                             ...</td>\n",
       "      <td>13206</td>\n",
       "      <td>ATGGAGAGCCTTGTCCCTGGTTTCAACGAGAAAACACACGTCCAAC...</td>\n",
       "    </tr>\n",
       "    <tr>\n",
       "      <th>10</th>\n",
       "      <td>SARS_COV_2</td>\n",
       "      <td>LC636489.1</td>\n",
       "      <td>Alpha</td>\n",
       "      <td>BCY15762.1</td>\n",
       "      <td>ORF1a polyprotein                             ...</td>\n",
       "      <td>13206</td>\n",
       "      <td>ATGGAGAGCCTTGTCCCTGGTTTCAACGAGAAAACACACGTCCAAC...</td>\n",
       "    </tr>\n",
       "    <tr>\n",
       "      <th>11</th>\n",
       "      <td>SARS_COV_2</td>\n",
       "      <td>LC650857.1</td>\n",
       "      <td>Alpha</td>\n",
       "      <td>BDB96745.1</td>\n",
       "      <td>ORF1ab polyprotein                            ...</td>\n",
       "      <td>21279</td>\n",
       "      <td>ATGGAGAGCCTTGTCCCTGGTTTCAACGAGAAAACACACGTCCAAC...</td>\n",
       "    </tr>\n",
       "    <tr>\n",
       "      <th>12</th>\n",
       "      <td>SARS_COV_2</td>\n",
       "      <td>LC636491.1</td>\n",
       "      <td>Alpha</td>\n",
       "      <td>BCY15786.1</td>\n",
       "      <td>ORF1a polyprotein                             ...</td>\n",
       "      <td>13206</td>\n",
       "      <td>ATGGAGAGCCTTGTCCCTGGTTTCAACGAGAAAACACACGTCCAAC...</td>\n",
       "    </tr>\n",
       "    <tr>\n",
       "      <th>13</th>\n",
       "      <td>SARS_COV_2</td>\n",
       "      <td>LC650858.1</td>\n",
       "      <td>Alpha</td>\n",
       "      <td>BDB96757.1</td>\n",
       "      <td>ORF1ab polyprotein                            ...</td>\n",
       "      <td>21279</td>\n",
       "      <td>ATGGAGAGCCTTGTCCCTGGTTTCAACGAGAAAACACACGTCCAAC...</td>\n",
       "    </tr>\n",
       "    <tr>\n",
       "      <th>14</th>\n",
       "      <td>SARS_COV_2</td>\n",
       "      <td>BS001220.1</td>\n",
       "      <td>Alpha</td>\n",
       "      <td>BDB46191.1</td>\n",
       "      <td>ORF1ab polyprotein                            ...</td>\n",
       "      <td>21279</td>\n",
       "      <td>ATGGAGAGCCTTGTCCCTGGTTTCAACGAGAAAACACACGTCCAAC...</td>\n",
       "    </tr>\n",
       "    <tr>\n",
       "      <th>15</th>\n",
       "      <td>SARS_COV_2</td>\n",
       "      <td>LC650862.1</td>\n",
       "      <td>Alpha</td>\n",
       "      <td>BDB96805.1</td>\n",
       "      <td>ORF1ab polyprotein                            ...</td>\n",
       "      <td>21279</td>\n",
       "      <td>ATGGAGAGCCTTGTCCCTGGTTTCAACGAGAAAACACACGTCCAAC...</td>\n",
       "    </tr>\n",
       "    <tr>\n",
       "      <th>16</th>\n",
       "      <td>SARS_COV_2</td>\n",
       "      <td>LC650044.1</td>\n",
       "      <td>Alpha</td>\n",
       "      <td>BDB57895.1</td>\n",
       "      <td>ORF1a polyprotein                             ...</td>\n",
       "      <td>13206</td>\n",
       "      <td>ATGGAGAGCCTTGTCCCTGGTTTCAACGAGAAAACACACGTCCAAC...</td>\n",
       "    </tr>\n",
       "    <tr>\n",
       "      <th>17</th>\n",
       "      <td>SARS_COV_2</td>\n",
       "      <td>BS001231.1</td>\n",
       "      <td>Alpha</td>\n",
       "      <td>BDB46324.1</td>\n",
       "      <td>ORF1a polyprotein                             ...</td>\n",
       "      <td>13206</td>\n",
       "      <td>ATGGAGAGCCTTGTCCCTGGTTTCAACGAGAAAACACACGTCCAAC...</td>\n",
       "    </tr>\n",
       "    <tr>\n",
       "      <th>18</th>\n",
       "      <td>SARS_COV_2</td>\n",
       "      <td>LC650865.1</td>\n",
       "      <td>Alpha</td>\n",
       "      <td>BDB96843.1</td>\n",
       "      <td>surface glycoprotein                          ...</td>\n",
       "      <td>3810</td>\n",
       "      <td>ATGTTTGTTTTTCTTGTTTTATTGCCACTAGTCTCTAGTCAGTGTG...</td>\n",
       "    </tr>\n",
       "    <tr>\n",
       "      <th>19</th>\n",
       "      <td>SARS_COV_2</td>\n",
       "      <td>LC650864.1</td>\n",
       "      <td>Alpha</td>\n",
       "      <td>BDB96829.1</td>\n",
       "      <td>ORF1ab polyprotein                            ...</td>\n",
       "      <td>21279</td>\n",
       "      <td>ATGGAGAGCCTTGTCCCTGGTTTCAACGAGAAAACACACGTCCAAC...</td>\n",
       "    </tr>\n",
       "  </tbody>\n",
       "</table>\n",
       "</div>"
      ],
      "text/plain": [
       "          Virus     ACCESSION               WHO_TYPE    ACCESSION_PROT  \\\n",
       "0   SARS_COV_2   LC636493.1    Alpha                  BCY15809.1         \n",
       "1   SARS_COV_2   LC638682.1    Alpha                  BCZ16426.1         \n",
       "2   SARS_COV_2   BS001166.1    Alpha                  BDB07859.1         \n",
       "3   SARS_COV_2   BS001219.1    Alpha                  BDB46179.1         \n",
       "4   SARS_COV_2   BS001143.1    Alpha                  BDA77043.1         \n",
       "5   SARS_COV_2   BS001382.1    Alpha                  BDD78230.1         \n",
       "6   SARS_COV_2   BS001191.1    Alpha                  BDB08160.1         \n",
       "7   SARS_COV_2   BS001144.1    Alpha                  BDA77055.1         \n",
       "8   SARS_COV_2   BS001171.1    Alpha                  BDB07919.1         \n",
       "9   SARS_COV_2   BS001200.1    Alpha                  BDB45952.1         \n",
       "10  SARS_COV_2   LC636489.1    Alpha                  BCY15762.1         \n",
       "11  SARS_COV_2   LC650857.1    Alpha                  BDB96745.1         \n",
       "12  SARS_COV_2   LC636491.1    Alpha                  BCY15786.1         \n",
       "13  SARS_COV_2   LC650858.1    Alpha                  BDB96757.1         \n",
       "14  SARS_COV_2   BS001220.1    Alpha                  BDB46191.1         \n",
       "15  SARS_COV_2   LC650862.1    Alpha                  BDB96805.1         \n",
       "16  SARS_COV_2   LC650044.1    Alpha                  BDB57895.1         \n",
       "17  SARS_COV_2   BS001231.1    Alpha                  BDB46324.1         \n",
       "18  SARS_COV_2   LC650865.1    Alpha                  BDB96843.1         \n",
       "19  SARS_COV_2   LC650864.1    Alpha                  BDB96829.1         \n",
       "\n",
       "                                              PROTEIN  DUZINA_NUC  \\\n",
       "0   ORF1ab polyprotein                            ...       21279   \n",
       "1   ORF1ab polyprotein                            ...       21279   \n",
       "2   ORF1ab polyprotein                            ...       21279   \n",
       "3   ORF1ab polyprotein                            ...       21279   \n",
       "4   ORF1ab polyprotein                            ...       21279   \n",
       "5   ORF1a polyprotein                             ...       13206   \n",
       "6   ORF1a polyprotein                             ...       13206   \n",
       "7   ORF1ab polyprotein                            ...       21279   \n",
       "8   ORF1ab polyprotein                            ...       21279   \n",
       "9   ORF1a polyprotein                             ...       13206   \n",
       "10  ORF1a polyprotein                             ...       13206   \n",
       "11  ORF1ab polyprotein                            ...       21279   \n",
       "12  ORF1a polyprotein                             ...       13206   \n",
       "13  ORF1ab polyprotein                            ...       21279   \n",
       "14  ORF1ab polyprotein                            ...       21279   \n",
       "15  ORF1ab polyprotein                            ...       21279   \n",
       "16  ORF1a polyprotein                             ...       13206   \n",
       "17  ORF1a polyprotein                             ...       13206   \n",
       "18  surface glycoprotein                          ...        3810   \n",
       "19  ORF1ab polyprotein                            ...       21279   \n",
       "\n",
       "                                              KOD_NUC  \n",
       "0   ATGGAGAGCCTTGTCCCTGGTTTCAACGAGAAAACACACGTCCAAC...  \n",
       "1   ATGGAGAGCCTTGTCCCTGGTTTCAACGAGAAAACACACGTCCAAC...  \n",
       "2   ATGGAGAGCTTTGTCCCTGGTTTCAACGAGAAAACACACGTCCAAC...  \n",
       "3   ATGGAGAGCCTTGTCCCTGGTTTCAACGAGAAAACACACGTCCAAC...  \n",
       "4   ATGGAGAGCCTTGTCCCTGGTTTCAACGAGAAAACACACGTCCAAC...  \n",
       "5   ATGGAGAGCCTTGTCCCTGGTTTCAACGAGAAAACACACGTCCAAC...  \n",
       "6   ATGGAGAGCCTTGTCCCTGGTTTCAACGAGAAAACACACGTCCAAC...  \n",
       "7   ATGGAGAGCCTTGTCCCTGGTTTCAACGAGAAAACACACGTCCAAC...  \n",
       "8   ATGGAGAGCCTTGTCCCTGGTTTCAACGAGAAAACACACGTCCAAC...  \n",
       "9   ATGGAGAGCCTTGTCCCTGGTTTCAACGAGAAAACACACGTCCAAC...  \n",
       "10  ATGGAGAGCCTTGTCCCTGGTTTCAACGAGAAAACACACGTCCAAC...  \n",
       "11  ATGGAGAGCCTTGTCCCTGGTTTCAACGAGAAAACACACGTCCAAC...  \n",
       "12  ATGGAGAGCCTTGTCCCTGGTTTCAACGAGAAAACACACGTCCAAC...  \n",
       "13  ATGGAGAGCCTTGTCCCTGGTTTCAACGAGAAAACACACGTCCAAC...  \n",
       "14  ATGGAGAGCCTTGTCCCTGGTTTCAACGAGAAAACACACGTCCAAC...  \n",
       "15  ATGGAGAGCCTTGTCCCTGGTTTCAACGAGAAAACACACGTCCAAC...  \n",
       "16  ATGGAGAGCCTTGTCCCTGGTTTCAACGAGAAAACACACGTCCAAC...  \n",
       "17  ATGGAGAGCCTTGTCCCTGGTTTCAACGAGAAAACACACGTCCAAC...  \n",
       "18  ATGTTTGTTTTTCTTGTTTTATTGCCACTAGTCTCTAGTCAGTGTG...  \n",
       "19  ATGGAGAGCCTTGTCCCTGGTTTCAACGAGAAAACACACGTCCAAC...  "
      ]
     },
     "execution_count": 4,
     "metadata": {},
     "output_type": "execute_result"
    }
   ],
   "source": [
    "\n",
    "X.head(20)"
   ]
  },
  {
   "cell_type": "code",
   "execution_count": 5,
   "id": "92351995",
   "metadata": {},
   "outputs": [],
   "source": [
    "from sklearn.model_selection import train_test_split\n",
    "from sklearn.neighbors import KNeighborsClassifier\n",
    "from sklearn.metrics import accuracy_score, confusion_matrix"
   ]
  },
  {
   "cell_type": "markdown",
   "id": "8ab811e8",
   "metadata": {},
   "source": [
    "<h1>KNN on virus type using p-adic distance </h1>"
   ]
  },
  {
   "cell_type": "code",
   "execution_count": 6,
   "id": "73210616",
   "metadata": {},
   "outputs": [],
   "source": [
    "y_virus=X[\"Virus\"]\n",
    "X_virus=X[\"KOD_NUC\"].apply(fdp.five_adic_coding).tolist()\n",
    "X_train, X_test, y_train, y_test = train_test_split(X_virus, y_virus, test_size=0.33, stratify=y_virus)"
   ]
  },
  {
   "cell_type": "code",
   "execution_count": 7,
   "id": "fdab29de",
   "metadata": {},
   "outputs": [],
   "source": [
    "model = KNeighborsClassifier(n_neighbors=3, algorithm='ball_tree', metric=fdp.five_two_adic_distance)"
   ]
  },
  {
   "cell_type": "code",
   "execution_count": 9,
   "id": "23ef0e01",
   "metadata": {},
   "outputs": [
    {
     "data": {
      "text/html": [
       "<style>#sk-container-id-1 {color: black;}#sk-container-id-1 pre{padding: 0;}#sk-container-id-1 div.sk-toggleable {background-color: white;}#sk-container-id-1 label.sk-toggleable__label {cursor: pointer;display: block;width: 100%;margin-bottom: 0;padding: 0.3em;box-sizing: border-box;text-align: center;}#sk-container-id-1 label.sk-toggleable__label-arrow:before {content: \"▸\";float: left;margin-right: 0.25em;color: #696969;}#sk-container-id-1 label.sk-toggleable__label-arrow:hover:before {color: black;}#sk-container-id-1 div.sk-estimator:hover label.sk-toggleable__label-arrow:before {color: black;}#sk-container-id-1 div.sk-toggleable__content {max-height: 0;max-width: 0;overflow: hidden;text-align: left;background-color: #f0f8ff;}#sk-container-id-1 div.sk-toggleable__content pre {margin: 0.2em;color: black;border-radius: 0.25em;background-color: #f0f8ff;}#sk-container-id-1 input.sk-toggleable__control:checked~div.sk-toggleable__content {max-height: 200px;max-width: 100%;overflow: auto;}#sk-container-id-1 input.sk-toggleable__control:checked~label.sk-toggleable__label-arrow:before {content: \"▾\";}#sk-container-id-1 div.sk-estimator input.sk-toggleable__control:checked~label.sk-toggleable__label {background-color: #d4ebff;}#sk-container-id-1 div.sk-label input.sk-toggleable__control:checked~label.sk-toggleable__label {background-color: #d4ebff;}#sk-container-id-1 input.sk-hidden--visually {border: 0;clip: rect(1px 1px 1px 1px);clip: rect(1px, 1px, 1px, 1px);height: 1px;margin: -1px;overflow: hidden;padding: 0;position: absolute;width: 1px;}#sk-container-id-1 div.sk-estimator {font-family: monospace;background-color: #f0f8ff;border: 1px dotted black;border-radius: 0.25em;box-sizing: border-box;margin-bottom: 0.5em;}#sk-container-id-1 div.sk-estimator:hover {background-color: #d4ebff;}#sk-container-id-1 div.sk-parallel-item::after {content: \"\";width: 100%;border-bottom: 1px solid gray;flex-grow: 1;}#sk-container-id-1 div.sk-label:hover label.sk-toggleable__label {background-color: #d4ebff;}#sk-container-id-1 div.sk-serial::before {content: \"\";position: absolute;border-left: 1px solid gray;box-sizing: border-box;top: 0;bottom: 0;left: 50%;z-index: 0;}#sk-container-id-1 div.sk-serial {display: flex;flex-direction: column;align-items: center;background-color: white;padding-right: 0.2em;padding-left: 0.2em;position: relative;}#sk-container-id-1 div.sk-item {position: relative;z-index: 1;}#sk-container-id-1 div.sk-parallel {display: flex;align-items: stretch;justify-content: center;background-color: white;position: relative;}#sk-container-id-1 div.sk-item::before, #sk-container-id-1 div.sk-parallel-item::before {content: \"\";position: absolute;border-left: 1px solid gray;box-sizing: border-box;top: 0;bottom: 0;left: 50%;z-index: -1;}#sk-container-id-1 div.sk-parallel-item {display: flex;flex-direction: column;z-index: 1;position: relative;background-color: white;}#sk-container-id-1 div.sk-parallel-item:first-child::after {align-self: flex-end;width: 50%;}#sk-container-id-1 div.sk-parallel-item:last-child::after {align-self: flex-start;width: 50%;}#sk-container-id-1 div.sk-parallel-item:only-child::after {width: 0;}#sk-container-id-1 div.sk-dashed-wrapped {border: 1px dashed gray;margin: 0 0.4em 0.5em 0.4em;box-sizing: border-box;padding-bottom: 0.4em;background-color: white;}#sk-container-id-1 div.sk-label label {font-family: monospace;font-weight: bold;display: inline-block;line-height: 1.2em;}#sk-container-id-1 div.sk-label-container {text-align: center;}#sk-container-id-1 div.sk-container {/* jupyter's `normalize.less` sets `[hidden] { display: none; }` but bootstrap.min.css set `[hidden] { display: none !important; }` so we also need the `!important` here to be able to override the default hidden behavior on the sphinx rendered scikit-learn.org. See: https://github.com/scikit-learn/scikit-learn/issues/21755 */display: inline-block !important;position: relative;}#sk-container-id-1 div.sk-text-repr-fallback {display: none;}</style><div id=\"sk-container-id-1\" class=\"sk-top-container\"><div class=\"sk-text-repr-fallback\"><pre>KNeighborsClassifier(algorithm=&#x27;ball_tree&#x27;,\n",
       "                     metric=&lt;function five_two_adic_distance at 0x7f3a1e90d790&gt;,\n",
       "                     n_neighbors=3)</pre><b>In a Jupyter environment, please rerun this cell to show the HTML representation or trust the notebook. <br />On GitHub, the HTML representation is unable to render, please try loading this page with nbviewer.org.</b></div><div class=\"sk-container\" hidden><div class=\"sk-item\"><div class=\"sk-estimator sk-toggleable\"><input class=\"sk-toggleable__control sk-hidden--visually\" id=\"sk-estimator-id-1\" type=\"checkbox\" checked><label for=\"sk-estimator-id-1\" class=\"sk-toggleable__label sk-toggleable__label-arrow\">KNeighborsClassifier</label><div class=\"sk-toggleable__content\"><pre>KNeighborsClassifier(algorithm=&#x27;ball_tree&#x27;,\n",
       "                     metric=&lt;function five_two_adic_distance at 0x7f3a1e90d790&gt;,\n",
       "                     n_neighbors=3)</pre></div></div></div></div></div>"
      ],
      "text/plain": [
       "KNeighborsClassifier(algorithm='ball_tree',\n",
       "                     metric=<function five_two_adic_distance at 0x7f3a1e90d790>,\n",
       "                     n_neighbors=3)"
      ]
     },
     "execution_count": 9,
     "metadata": {},
     "output_type": "execute_result"
    }
   ],
   "source": [
    "model.fit(X_train, y_train)"
   ]
  },
  {
   "cell_type": "markdown",
   "id": "b2d3f215",
   "metadata": {},
   "source": []
  },
  {
   "cell_type": "code",
   "execution_count": 10,
   "id": "79431929",
   "metadata": {},
   "outputs": [],
   "source": [
    "y_pred=model.predict(X_test)"
   ]
  },
  {
   "cell_type": "code",
   "execution_count": 11,
   "id": "59abc5fa",
   "metadata": {},
   "outputs": [],
   "source": [
    "from sklearn.metrics import accuracy_score, confusion_matrix"
   ]
  },
  {
   "cell_type": "code",
   "execution_count": 12,
   "id": "eb8d63ac",
   "metadata": {},
   "outputs": [
    {
     "data": {
      "text/plain": [
       "0.9990819371126922"
      ]
     },
     "execution_count": 12,
     "metadata": {},
     "output_type": "execute_result"
    }
   ],
   "source": [
    "accuracy_score(y_test,y_pred)"
   ]
  },
  {
   "cell_type": "code",
   "execution_count": 13,
   "id": "42ff543f",
   "metadata": {},
   "outputs": [
    {
     "data": {
      "text/plain": [
       "array([[ 611,    0,    0],\n",
       "       [   2,    3,    1],\n",
       "       [   1,    0, 3739]])"
      ]
     },
     "execution_count": 13,
     "metadata": {},
     "output_type": "execute_result"
    }
   ],
   "source": [
    "confusion_matrix(y_test,y_pred)"
   ]
  },
  {
   "cell_type": "markdown",
   "id": "81e75399",
   "metadata": {},
   "source": [
    "<h1>KNN on protein using p-adic distance </h1>"
   ]
  },
  {
   "cell_type": "code",
   "execution_count": 14,
   "id": "47df80c8",
   "metadata": {},
   "outputs": [
    {
     "data": {
      "text/plain": [
       "Index(['Virus', 'ACCESSION', 'WHO_TYPE', 'ACCESSION_PROT', 'PROTEIN',\n",
       "       'DUZINA_NUC', 'KOD_NUC'],\n",
       "      dtype='object')"
      ]
     },
     "execution_count": 14,
     "metadata": {},
     "output_type": "execute_result"
    }
   ],
   "source": [
    "X.columns"
   ]
  },
  {
   "cell_type": "code",
   "execution_count": 15,
   "id": "5e6f666e",
   "metadata": {},
   "outputs": [],
   "source": [
    "y_protein=X[\"PROTEIN\"].str.strip()\n",
    "X_protein=X[\"KOD_NUC\"].str.strip().apply(fdp.five_adic_coding).tolist()\n",
    "X_train, X_test, y_train, y_test = train_test_split(X_virus, y_protein, test_size=0.33, stratify=y_protein)"
   ]
  },
  {
   "cell_type": "code",
   "execution_count": 16,
   "id": "bafd02ef",
   "metadata": {},
   "outputs": [
    {
     "data": {
      "text/plain": [
       "array(['ORF1ab polyprotein', 'ORF1a polyprotein', 'surface glycoprotein',\n",
       "       'ORF7a protein', 'ORF8 protein', 'ORF3a protein',\n",
       "       'nucleocapsid phosphoprotein', 'ORF7b protein',\n",
       "       'membrane glycoprotein', 'envelope protein', 'ORF10 protein',\n",
       "       'ORF6 protein', 'ORF3 protein', 'ORF4a protein', 'ORF5 protein',\n",
       "       'ORF1b polyprotein', 'ORF4b protein', 'ORF8b protein'],\n",
       "      dtype=object)"
      ]
     },
     "execution_count": 16,
     "metadata": {},
     "output_type": "execute_result"
    }
   ],
   "source": [
    "y_protein.unique()"
   ]
  },
  {
   "cell_type": "code",
   "execution_count": 17,
   "id": "20c9c518",
   "metadata": {},
   "outputs": [
    {
     "data": {
      "text/html": [
       "<style>#sk-container-id-2 {color: black;}#sk-container-id-2 pre{padding: 0;}#sk-container-id-2 div.sk-toggleable {background-color: white;}#sk-container-id-2 label.sk-toggleable__label {cursor: pointer;display: block;width: 100%;margin-bottom: 0;padding: 0.3em;box-sizing: border-box;text-align: center;}#sk-container-id-2 label.sk-toggleable__label-arrow:before {content: \"▸\";float: left;margin-right: 0.25em;color: #696969;}#sk-container-id-2 label.sk-toggleable__label-arrow:hover:before {color: black;}#sk-container-id-2 div.sk-estimator:hover label.sk-toggleable__label-arrow:before {color: black;}#sk-container-id-2 div.sk-toggleable__content {max-height: 0;max-width: 0;overflow: hidden;text-align: left;background-color: #f0f8ff;}#sk-container-id-2 div.sk-toggleable__content pre {margin: 0.2em;color: black;border-radius: 0.25em;background-color: #f0f8ff;}#sk-container-id-2 input.sk-toggleable__control:checked~div.sk-toggleable__content {max-height: 200px;max-width: 100%;overflow: auto;}#sk-container-id-2 input.sk-toggleable__control:checked~label.sk-toggleable__label-arrow:before {content: \"▾\";}#sk-container-id-2 div.sk-estimator input.sk-toggleable__control:checked~label.sk-toggleable__label {background-color: #d4ebff;}#sk-container-id-2 div.sk-label input.sk-toggleable__control:checked~label.sk-toggleable__label {background-color: #d4ebff;}#sk-container-id-2 input.sk-hidden--visually {border: 0;clip: rect(1px 1px 1px 1px);clip: rect(1px, 1px, 1px, 1px);height: 1px;margin: -1px;overflow: hidden;padding: 0;position: absolute;width: 1px;}#sk-container-id-2 div.sk-estimator {font-family: monospace;background-color: #f0f8ff;border: 1px dotted black;border-radius: 0.25em;box-sizing: border-box;margin-bottom: 0.5em;}#sk-container-id-2 div.sk-estimator:hover {background-color: #d4ebff;}#sk-container-id-2 div.sk-parallel-item::after {content: \"\";width: 100%;border-bottom: 1px solid gray;flex-grow: 1;}#sk-container-id-2 div.sk-label:hover label.sk-toggleable__label {background-color: #d4ebff;}#sk-container-id-2 div.sk-serial::before {content: \"\";position: absolute;border-left: 1px solid gray;box-sizing: border-box;top: 0;bottom: 0;left: 50%;z-index: 0;}#sk-container-id-2 div.sk-serial {display: flex;flex-direction: column;align-items: center;background-color: white;padding-right: 0.2em;padding-left: 0.2em;position: relative;}#sk-container-id-2 div.sk-item {position: relative;z-index: 1;}#sk-container-id-2 div.sk-parallel {display: flex;align-items: stretch;justify-content: center;background-color: white;position: relative;}#sk-container-id-2 div.sk-item::before, #sk-container-id-2 div.sk-parallel-item::before {content: \"\";position: absolute;border-left: 1px solid gray;box-sizing: border-box;top: 0;bottom: 0;left: 50%;z-index: -1;}#sk-container-id-2 div.sk-parallel-item {display: flex;flex-direction: column;z-index: 1;position: relative;background-color: white;}#sk-container-id-2 div.sk-parallel-item:first-child::after {align-self: flex-end;width: 50%;}#sk-container-id-2 div.sk-parallel-item:last-child::after {align-self: flex-start;width: 50%;}#sk-container-id-2 div.sk-parallel-item:only-child::after {width: 0;}#sk-container-id-2 div.sk-dashed-wrapped {border: 1px dashed gray;margin: 0 0.4em 0.5em 0.4em;box-sizing: border-box;padding-bottom: 0.4em;background-color: white;}#sk-container-id-2 div.sk-label label {font-family: monospace;font-weight: bold;display: inline-block;line-height: 1.2em;}#sk-container-id-2 div.sk-label-container {text-align: center;}#sk-container-id-2 div.sk-container {/* jupyter's `normalize.less` sets `[hidden] { display: none; }` but bootstrap.min.css set `[hidden] { display: none !important; }` so we also need the `!important` here to be able to override the default hidden behavior on the sphinx rendered scikit-learn.org. See: https://github.com/scikit-learn/scikit-learn/issues/21755 */display: inline-block !important;position: relative;}#sk-container-id-2 div.sk-text-repr-fallback {display: none;}</style><div id=\"sk-container-id-2\" class=\"sk-top-container\"><div class=\"sk-text-repr-fallback\"><pre>KNeighborsClassifier(algorithm=&#x27;ball_tree&#x27;,\n",
       "                     metric=&lt;function five_two_adic_distance at 0x7f3a1e90d790&gt;,\n",
       "                     n_neighbors=3)</pre><b>In a Jupyter environment, please rerun this cell to show the HTML representation or trust the notebook. <br />On GitHub, the HTML representation is unable to render, please try loading this page with nbviewer.org.</b></div><div class=\"sk-container\" hidden><div class=\"sk-item\"><div class=\"sk-estimator sk-toggleable\"><input class=\"sk-toggleable__control sk-hidden--visually\" id=\"sk-estimator-id-2\" type=\"checkbox\" checked><label for=\"sk-estimator-id-2\" class=\"sk-toggleable__label sk-toggleable__label-arrow\">KNeighborsClassifier</label><div class=\"sk-toggleable__content\"><pre>KNeighborsClassifier(algorithm=&#x27;ball_tree&#x27;,\n",
       "                     metric=&lt;function five_two_adic_distance at 0x7f3a1e90d790&gt;,\n",
       "                     n_neighbors=3)</pre></div></div></div></div></div>"
      ],
      "text/plain": [
       "KNeighborsClassifier(algorithm='ball_tree',\n",
       "                     metric=<function five_two_adic_distance at 0x7f3a1e90d790>,\n",
       "                     n_neighbors=3)"
      ]
     },
     "execution_count": 17,
     "metadata": {},
     "output_type": "execute_result"
    }
   ],
   "source": [
    "model = KNeighborsClassifier(n_neighbors=3, algorithm='ball_tree', metric=fdp.five_two_adic_distance)\n",
    "model.fit(X_train,y_train)"
   ]
  },
  {
   "cell_type": "code",
   "execution_count": 18,
   "id": "522707fa",
   "metadata": {},
   "outputs": [],
   "source": [
    "y_pred=model.predict(X_test)"
   ]
  },
  {
   "cell_type": "code",
   "execution_count": 19,
   "id": "c776ddb8",
   "metadata": {},
   "outputs": [
    {
     "data": {
      "text/plain": [
       "0.6763828322240073"
      ]
     },
     "execution_count": 19,
     "metadata": {},
     "output_type": "execute_result"
    }
   ],
   "source": [
    "accuracy_score(y_pred,y_test)"
   ]
  },
  {
   "cell_type": "code",
   "execution_count": 20,
   "id": "d17b05ae",
   "metadata": {},
   "outputs": [
    {
     "data": {
      "text/plain": [
       "array([[   0,    0,    0,    0,    0,    0,    0,    0,    0,    0,    0,\n",
       "           0,    0,    0,    0,    0,    0,    0],\n",
       "       [   0,  138,  169,    0,    0,    0,    0,    0,    0,    0,    0,\n",
       "           0,    0,    0,    0,    0,    0,    0],\n",
       "       [   0, 1233, 1730,    0,    0,    0,    0,    0,    0,    0,    0,\n",
       "           0,    0,    0,    0,    0,    0,    0],\n",
       "       [   0,    0,    0,    2,    0,    0,    0,    0,    0,    0,    0,\n",
       "           0,    0,    0,    0,    1,    0,    0],\n",
       "       [   1,    0,    0,    0,   34,    0,    0,    0,    1,    0,    0,\n",
       "           0,    0,    0,    0,    0,    0,    0],\n",
       "       [   0,    0,    0,    0,    0,   73,    0,    0,    0,    0,    0,\n",
       "           0,    0,    0,    0,    0,    0,    0],\n",
       "       [   0,    0,    0,    0,    1,    0,   22,    0,    0,    0,    0,\n",
       "           0,    0,    0,    0,    0,    0,    0],\n",
       "       [   0,    0,    0,    0,    0,    0,    0,   41,    0,    0,    0,\n",
       "           0,    0,    0,    0,    0,    0,    1],\n",
       "       [   0,    0,    0,    0,    0,    0,    0,    1,   32,    0,    0,\n",
       "           0,    0,    0,    0,    0,    0,    0],\n",
       "       [   0,    0,    0,    0,    0,    0,    0,    0,    0,    3,    0,\n",
       "           0,    0,    0,    0,    0,    0,    0],\n",
       "       [   0,    0,    0,    0,    0,    0,    0,    0,    0,    0,    8,\n",
       "           0,    0,    0,    0,    0,    0,    0],\n",
       "       [   0,    0,    0,    0,    0,    0,    0,    0,    0,    0,    0,\n",
       "           3,    0,    0,    0,    0,    0,    0],\n",
       "       [   0,    0,    0,    0,    0,    0,    0,    0,    0,    0,    0,\n",
       "           0,   25,    0,    0,    0,    0,    0],\n",
       "       [   0,    0,    0,    0,    0,    0,    0,    0,    0,    0,    0,\n",
       "           0,    0,   20,    0,    0,    0,    0],\n",
       "       [   0,    0,    0,    0,    0,    0,    0,    0,    1,    0,    0,\n",
       "           0,    0,    0,   13,    0,    0,    0],\n",
       "       [   0,    0,    0,    0,    0,    0,    0,    0,    0,    0,    0,\n",
       "           0,    0,    0,    0,   44,    0,    0],\n",
       "       [   0,    0,    0,    0,    0,    0,    0,    0,    0,    0,    0,\n",
       "           0,    0,    0,    0,    0,  211,    1],\n",
       "       [   0,    0,    0,    0,    0,    0,    0,    0,    0,    0,    0,\n",
       "           0,    0,    0,    0,    0,    0,  548]])"
      ]
     },
     "execution_count": 20,
     "metadata": {},
     "output_type": "execute_result"
    }
   ],
   "source": [
    "confusion_matrix(y_pred,y_test)"
   ]
  },
  {
   "cell_type": "code",
   "execution_count": 21,
   "id": "58973d48",
   "metadata": {},
   "outputs": [],
   "source": [
    "#izdvojiti sars2 i uraditi klasifikaciju po who"
   ]
  },
  {
   "cell_type": "markdown",
   "id": "6211c402-f03b-4017-ac78-f8d705764fb8",
   "metadata": {},
   "source": [
    "<h1> KNN on who_type using p-adic distance </h1>"
   ]
  },
  {
   "cell_type": "code",
   "execution_count": 23,
   "id": "bd57a5cb-8592-46b6-a37e-61ef228398d6",
   "metadata": {},
   "outputs": [],
   "source": [
    "import numpy as np\n",
    "\n",
    "virusTypes = np.array(X['Virus'])\n",
    "indexes = []\n",
    "for i in range(len(virusTypes)):\n",
    "    if(virusTypes[i].strip() == \"SARS_COV_2\"):\n",
    "        indexes.append(i)\n",
    "\n",
    "sars2_only = X.filter(items=indexes, axis=0)"
   ]
  },
  {
   "cell_type": "code",
   "execution_count": 24,
   "id": "b636a26c-ecb6-4a9e-b4b8-ffec2a2dae0b",
   "metadata": {},
   "outputs": [],
   "source": [
    "y_who=sars2_only[\"WHO_TYPE\"].str.strip()\n",
    "X_who=sars2_only[\"KOD_NUC\"].apply(fdp.five_adic_coding).tolist()\n",
    "X_train, X_test, y_train, y_test = train_test_split(X_who, y_who, test_size=0.33, stratify=y_who)"
   ]
  },
  {
   "cell_type": "code",
   "execution_count": 25,
   "id": "d49922f1-4c43-4290-ba3b-d9a9c4a016ff",
   "metadata": {},
   "outputs": [
    {
     "data": {
      "text/plain": [
       "array(['Beta', 'Iota', 'Delta', 'Eta', 'Alpha', 'Omicron', 'Gamma',\n",
       "       'Epsilon', 'Kappa', 'Lambda', 'Zeta', 'Mu', 'Theta'], dtype=object)"
      ]
     },
     "execution_count": 25,
     "metadata": {},
     "output_type": "execute_result"
    }
   ],
   "source": [
    "y_train.unique()"
   ]
  },
  {
   "cell_type": "code",
   "execution_count": 26,
   "id": "009f7fa9-6f1e-419d-b0bf-1a4a22293b9c",
   "metadata": {},
   "outputs": [
    {
     "data": {
      "text/html": [
       "<style>#sk-container-id-3 {color: black;}#sk-container-id-3 pre{padding: 0;}#sk-container-id-3 div.sk-toggleable {background-color: white;}#sk-container-id-3 label.sk-toggleable__label {cursor: pointer;display: block;width: 100%;margin-bottom: 0;padding: 0.3em;box-sizing: border-box;text-align: center;}#sk-container-id-3 label.sk-toggleable__label-arrow:before {content: \"▸\";float: left;margin-right: 0.25em;color: #696969;}#sk-container-id-3 label.sk-toggleable__label-arrow:hover:before {color: black;}#sk-container-id-3 div.sk-estimator:hover label.sk-toggleable__label-arrow:before {color: black;}#sk-container-id-3 div.sk-toggleable__content {max-height: 0;max-width: 0;overflow: hidden;text-align: left;background-color: #f0f8ff;}#sk-container-id-3 div.sk-toggleable__content pre {margin: 0.2em;color: black;border-radius: 0.25em;background-color: #f0f8ff;}#sk-container-id-3 input.sk-toggleable__control:checked~div.sk-toggleable__content {max-height: 200px;max-width: 100%;overflow: auto;}#sk-container-id-3 input.sk-toggleable__control:checked~label.sk-toggleable__label-arrow:before {content: \"▾\";}#sk-container-id-3 div.sk-estimator input.sk-toggleable__control:checked~label.sk-toggleable__label {background-color: #d4ebff;}#sk-container-id-3 div.sk-label input.sk-toggleable__control:checked~label.sk-toggleable__label {background-color: #d4ebff;}#sk-container-id-3 input.sk-hidden--visually {border: 0;clip: rect(1px 1px 1px 1px);clip: rect(1px, 1px, 1px, 1px);height: 1px;margin: -1px;overflow: hidden;padding: 0;position: absolute;width: 1px;}#sk-container-id-3 div.sk-estimator {font-family: monospace;background-color: #f0f8ff;border: 1px dotted black;border-radius: 0.25em;box-sizing: border-box;margin-bottom: 0.5em;}#sk-container-id-3 div.sk-estimator:hover {background-color: #d4ebff;}#sk-container-id-3 div.sk-parallel-item::after {content: \"\";width: 100%;border-bottom: 1px solid gray;flex-grow: 1;}#sk-container-id-3 div.sk-label:hover label.sk-toggleable__label {background-color: #d4ebff;}#sk-container-id-3 div.sk-serial::before {content: \"\";position: absolute;border-left: 1px solid gray;box-sizing: border-box;top: 0;bottom: 0;left: 50%;z-index: 0;}#sk-container-id-3 div.sk-serial {display: flex;flex-direction: column;align-items: center;background-color: white;padding-right: 0.2em;padding-left: 0.2em;position: relative;}#sk-container-id-3 div.sk-item {position: relative;z-index: 1;}#sk-container-id-3 div.sk-parallel {display: flex;align-items: stretch;justify-content: center;background-color: white;position: relative;}#sk-container-id-3 div.sk-item::before, #sk-container-id-3 div.sk-parallel-item::before {content: \"\";position: absolute;border-left: 1px solid gray;box-sizing: border-box;top: 0;bottom: 0;left: 50%;z-index: -1;}#sk-container-id-3 div.sk-parallel-item {display: flex;flex-direction: column;z-index: 1;position: relative;background-color: white;}#sk-container-id-3 div.sk-parallel-item:first-child::after {align-self: flex-end;width: 50%;}#sk-container-id-3 div.sk-parallel-item:last-child::after {align-self: flex-start;width: 50%;}#sk-container-id-3 div.sk-parallel-item:only-child::after {width: 0;}#sk-container-id-3 div.sk-dashed-wrapped {border: 1px dashed gray;margin: 0 0.4em 0.5em 0.4em;box-sizing: border-box;padding-bottom: 0.4em;background-color: white;}#sk-container-id-3 div.sk-label label {font-family: monospace;font-weight: bold;display: inline-block;line-height: 1.2em;}#sk-container-id-3 div.sk-label-container {text-align: center;}#sk-container-id-3 div.sk-container {/* jupyter's `normalize.less` sets `[hidden] { display: none; }` but bootstrap.min.css set `[hidden] { display: none !important; }` so we also need the `!important` here to be able to override the default hidden behavior on the sphinx rendered scikit-learn.org. See: https://github.com/scikit-learn/scikit-learn/issues/21755 */display: inline-block !important;position: relative;}#sk-container-id-3 div.sk-text-repr-fallback {display: none;}</style><div id=\"sk-container-id-3\" class=\"sk-top-container\"><div class=\"sk-text-repr-fallback\"><pre>KNeighborsClassifier(algorithm=&#x27;ball_tree&#x27;,\n",
       "                     metric=&lt;function five_two_adic_distance at 0x7f3a1e90d790&gt;,\n",
       "                     n_neighbors=3)</pre><b>In a Jupyter environment, please rerun this cell to show the HTML representation or trust the notebook. <br />On GitHub, the HTML representation is unable to render, please try loading this page with nbviewer.org.</b></div><div class=\"sk-container\" hidden><div class=\"sk-item\"><div class=\"sk-estimator sk-toggleable\"><input class=\"sk-toggleable__control sk-hidden--visually\" id=\"sk-estimator-id-3\" type=\"checkbox\" checked><label for=\"sk-estimator-id-3\" class=\"sk-toggleable__label sk-toggleable__label-arrow\">KNeighborsClassifier</label><div class=\"sk-toggleable__content\"><pre>KNeighborsClassifier(algorithm=&#x27;ball_tree&#x27;,\n",
       "                     metric=&lt;function five_two_adic_distance at 0x7f3a1e90d790&gt;,\n",
       "                     n_neighbors=3)</pre></div></div></div></div></div>"
      ],
      "text/plain": [
       "KNeighborsClassifier(algorithm='ball_tree',\n",
       "                     metric=<function five_two_adic_distance at 0x7f3a1e90d790>,\n",
       "                     n_neighbors=3)"
      ]
     },
     "execution_count": 26,
     "metadata": {},
     "output_type": "execute_result"
    }
   ],
   "source": [
    "model = KNeighborsClassifier(n_neighbors=3, algorithm='ball_tree', metric=fdp.five_two_adic_distance)\n",
    "model.fit(X_train,y_train)"
   ]
  },
  {
   "cell_type": "code",
   "execution_count": 27,
   "id": "3aa5d001-93dd-49cd-9052-9754cb73b581",
   "metadata": {},
   "outputs": [],
   "source": [
    "y_pred = model.predict(X_test)"
   ]
  },
  {
   "cell_type": "code",
   "execution_count": 28,
   "id": "8bf13440-39a2-465b-82da-cebb43b891a3",
   "metadata": {},
   "outputs": [
    {
     "data": {
      "text/plain": [
       "0.21818181818181817"
      ]
     },
     "execution_count": 28,
     "metadata": {},
     "output_type": "execute_result"
    }
   ],
   "source": [
    "accuracy_score(y_pred,y_test)"
   ]
  },
  {
   "cell_type": "code",
   "execution_count": null,
   "id": "6dc596de-cee3-4d36-a38d-d29b2e09ebb7",
   "metadata": {},
   "outputs": [],
   "source": []
  }
 ],
 "metadata": {
  "kernelspec": {
   "display_name": "Python 3 (ipykernel)",
   "language": "python",
   "name": "python3"
  },
  "language_info": {
   "codemirror_mode": {
    "name": "ipython",
    "version": 3
   },
   "file_extension": ".py",
   "mimetype": "text/x-python",
   "name": "python",
   "nbconvert_exporter": "python",
   "pygments_lexer": "ipython3",
   "version": "3.8.10"
  }
 },
 "nbformat": 4,
 "nbformat_minor": 5
}
