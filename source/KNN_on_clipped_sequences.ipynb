{
 "cells": [
  {
   "cell_type": "code",
   "execution_count": 1,
   "id": "4c03d9a1",
   "metadata": {},
   "outputs": [
    {
     "data": {
      "text/plain": [
       "<module 'fileDistanceProcessing' from '/home/marko/Desktop/ip2/ip2_projekat/source/fileDistanceProcessing.py'>"
      ]
     },
     "execution_count": 1,
     "metadata": {},
     "output_type": "execute_result"
    }
   ],
   "source": [
    "import pandas as pd\n",
    "import importlib\n",
    "import fileDistanceProcessing as fdp\n",
    "import importlib\n",
    "importlib.reload(fdp) "
   ]
  },
  {
   "cell_type": "code",
   "execution_count": 2,
   "id": "e8d9fbb0",
   "metadata": {},
   "outputs": [],
   "source": [
    "X=pd.read_csv(\"../data/csv/sars2_mers_sars1.txt\",skipinitialspace = True )"
   ]
  },
  {
   "cell_type": "code",
   "execution_count": 3,
   "id": "cff1dbb5",
   "metadata": {},
   "outputs": [
    {
     "data": {
      "text/plain": [
       "Index(['Virus', 'ACCESSION', 'WHO_TYPE', 'ACCESSION_PROT', 'PROTEIN',\n",
       "       'DUZINA_NUC', 'KOD_NUC'],\n",
       "      dtype='object')"
      ]
     },
     "execution_count": 3,
     "metadata": {},
     "output_type": "execute_result"
    }
   ],
   "source": [
    "X.columns = X.columns.str.strip()\n",
    "X.columns"
   ]
  },
  {
   "cell_type": "code",
   "execution_count": 4,
   "id": "1d5c20ba",
   "metadata": {},
   "outputs": [
    {
     "data": {
      "text/html": [
       "<div>\n",
       "<style scoped>\n",
       "    .dataframe tbody tr th:only-of-type {\n",
       "        vertical-align: middle;\n",
       "    }\n",
       "\n",
       "    .dataframe tbody tr th {\n",
       "        vertical-align: top;\n",
       "    }\n",
       "\n",
       "    .dataframe thead th {\n",
       "        text-align: right;\n",
       "    }\n",
       "</style>\n",
       "<table border=\"1\" class=\"dataframe\">\n",
       "  <thead>\n",
       "    <tr style=\"text-align: right;\">\n",
       "      <th></th>\n",
       "      <th>Virus</th>\n",
       "      <th>ACCESSION</th>\n",
       "      <th>WHO_TYPE</th>\n",
       "      <th>ACCESSION_PROT</th>\n",
       "      <th>PROTEIN</th>\n",
       "      <th>DUZINA_NUC</th>\n",
       "      <th>KOD_NUC</th>\n",
       "    </tr>\n",
       "  </thead>\n",
       "  <tbody>\n",
       "    <tr>\n",
       "      <th>0</th>\n",
       "      <td>SARS_COV_2</td>\n",
       "      <td>LC636493.1</td>\n",
       "      <td>Alpha</td>\n",
       "      <td>BCY15809.1</td>\n",
       "      <td>ORF1ab polyprotein                            ...</td>\n",
       "      <td>21279</td>\n",
       "      <td>ATGGAGAGCCTTGTCCCTGGTTTCAACGAGAAAACACACGTCCAAC...</td>\n",
       "    </tr>\n",
       "    <tr>\n",
       "      <th>1</th>\n",
       "      <td>SARS_COV_2</td>\n",
       "      <td>LC638682.1</td>\n",
       "      <td>Alpha</td>\n",
       "      <td>BCZ16426.1</td>\n",
       "      <td>ORF1ab polyprotein                            ...</td>\n",
       "      <td>21279</td>\n",
       "      <td>ATGGAGAGCCTTGTCCCTGGTTTCAACGAGAAAACACACGTCCAAC...</td>\n",
       "    </tr>\n",
       "    <tr>\n",
       "      <th>2</th>\n",
       "      <td>SARS_COV_2</td>\n",
       "      <td>BS001166.1</td>\n",
       "      <td>Alpha</td>\n",
       "      <td>BDB07859.1</td>\n",
       "      <td>ORF1ab polyprotein                            ...</td>\n",
       "      <td>21279</td>\n",
       "      <td>ATGGAGAGCTTTGTCCCTGGTTTCAACGAGAAAACACACGTCCAAC...</td>\n",
       "    </tr>\n",
       "    <tr>\n",
       "      <th>3</th>\n",
       "      <td>SARS_COV_2</td>\n",
       "      <td>BS001219.1</td>\n",
       "      <td>Alpha</td>\n",
       "      <td>BDB46179.1</td>\n",
       "      <td>ORF1ab polyprotein                            ...</td>\n",
       "      <td>21279</td>\n",
       "      <td>ATGGAGAGCCTTGTCCCTGGTTTCAACGAGAAAACACACGTCCAAC...</td>\n",
       "    </tr>\n",
       "    <tr>\n",
       "      <th>4</th>\n",
       "      <td>SARS_COV_2</td>\n",
       "      <td>BS001143.1</td>\n",
       "      <td>Alpha</td>\n",
       "      <td>BDA77043.1</td>\n",
       "      <td>ORF1ab polyprotein                            ...</td>\n",
       "      <td>21279</td>\n",
       "      <td>ATGGAGAGCCTTGTCCCTGGTTTCAACGAGAAAACACACGTCCAAC...</td>\n",
       "    </tr>\n",
       "    <tr>\n",
       "      <th>5</th>\n",
       "      <td>SARS_COV_2</td>\n",
       "      <td>BS001382.1</td>\n",
       "      <td>Alpha</td>\n",
       "      <td>BDD78230.1</td>\n",
       "      <td>ORF1a polyprotein                             ...</td>\n",
       "      <td>13206</td>\n",
       "      <td>ATGGAGAGCCTTGTCCCTGGTTTCAACGAGAAAACACACGTCCAAC...</td>\n",
       "    </tr>\n",
       "    <tr>\n",
       "      <th>6</th>\n",
       "      <td>SARS_COV_2</td>\n",
       "      <td>BS001191.1</td>\n",
       "      <td>Alpha</td>\n",
       "      <td>BDB08160.1</td>\n",
       "      <td>ORF1a polyprotein                             ...</td>\n",
       "      <td>13206</td>\n",
       "      <td>ATGGAGAGCCTTGTCCCTGGTTTCAACGAGAAAACACACGTCCAAC...</td>\n",
       "    </tr>\n",
       "    <tr>\n",
       "      <th>7</th>\n",
       "      <td>SARS_COV_2</td>\n",
       "      <td>BS001144.1</td>\n",
       "      <td>Alpha</td>\n",
       "      <td>BDA77055.1</td>\n",
       "      <td>ORF1ab polyprotein                            ...</td>\n",
       "      <td>21279</td>\n",
       "      <td>ATGGAGAGCCTTGTCCCTGGTTTCAACGAGAAAACACACGTCCAAC...</td>\n",
       "    </tr>\n",
       "    <tr>\n",
       "      <th>8</th>\n",
       "      <td>SARS_COV_2</td>\n",
       "      <td>BS001171.1</td>\n",
       "      <td>Alpha</td>\n",
       "      <td>BDB07919.1</td>\n",
       "      <td>ORF1ab polyprotein                            ...</td>\n",
       "      <td>21279</td>\n",
       "      <td>ATGGAGAGCCTTGTCCCTGGTTTCAACGAGAAAACACACGTCCAAC...</td>\n",
       "    </tr>\n",
       "    <tr>\n",
       "      <th>9</th>\n",
       "      <td>SARS_COV_2</td>\n",
       "      <td>BS001200.1</td>\n",
       "      <td>Alpha</td>\n",
       "      <td>BDB45952.1</td>\n",
       "      <td>ORF1a polyprotein                             ...</td>\n",
       "      <td>13206</td>\n",
       "      <td>ATGGAGAGCCTTGTCCCTGGTTTCAACGAGAAAACACACGTCCAAC...</td>\n",
       "    </tr>\n",
       "    <tr>\n",
       "      <th>10</th>\n",
       "      <td>SARS_COV_2</td>\n",
       "      <td>LC636489.1</td>\n",
       "      <td>Alpha</td>\n",
       "      <td>BCY15762.1</td>\n",
       "      <td>ORF1a polyprotein                             ...</td>\n",
       "      <td>13206</td>\n",
       "      <td>ATGGAGAGCCTTGTCCCTGGTTTCAACGAGAAAACACACGTCCAAC...</td>\n",
       "    </tr>\n",
       "    <tr>\n",
       "      <th>11</th>\n",
       "      <td>SARS_COV_2</td>\n",
       "      <td>LC650857.1</td>\n",
       "      <td>Alpha</td>\n",
       "      <td>BDB96745.1</td>\n",
       "      <td>ORF1ab polyprotein                            ...</td>\n",
       "      <td>21279</td>\n",
       "      <td>ATGGAGAGCCTTGTCCCTGGTTTCAACGAGAAAACACACGTCCAAC...</td>\n",
       "    </tr>\n",
       "    <tr>\n",
       "      <th>12</th>\n",
       "      <td>SARS_COV_2</td>\n",
       "      <td>LC636491.1</td>\n",
       "      <td>Alpha</td>\n",
       "      <td>BCY15786.1</td>\n",
       "      <td>ORF1a polyprotein                             ...</td>\n",
       "      <td>13206</td>\n",
       "      <td>ATGGAGAGCCTTGTCCCTGGTTTCAACGAGAAAACACACGTCCAAC...</td>\n",
       "    </tr>\n",
       "    <tr>\n",
       "      <th>13</th>\n",
       "      <td>SARS_COV_2</td>\n",
       "      <td>LC650858.1</td>\n",
       "      <td>Alpha</td>\n",
       "      <td>BDB96757.1</td>\n",
       "      <td>ORF1ab polyprotein                            ...</td>\n",
       "      <td>21279</td>\n",
       "      <td>ATGGAGAGCCTTGTCCCTGGTTTCAACGAGAAAACACACGTCCAAC...</td>\n",
       "    </tr>\n",
       "    <tr>\n",
       "      <th>14</th>\n",
       "      <td>SARS_COV_2</td>\n",
       "      <td>BS001220.1</td>\n",
       "      <td>Alpha</td>\n",
       "      <td>BDB46191.1</td>\n",
       "      <td>ORF1ab polyprotein                            ...</td>\n",
       "      <td>21279</td>\n",
       "      <td>ATGGAGAGCCTTGTCCCTGGTTTCAACGAGAAAACACACGTCCAAC...</td>\n",
       "    </tr>\n",
       "    <tr>\n",
       "      <th>15</th>\n",
       "      <td>SARS_COV_2</td>\n",
       "      <td>LC650862.1</td>\n",
       "      <td>Alpha</td>\n",
       "      <td>BDB96805.1</td>\n",
       "      <td>ORF1ab polyprotein                            ...</td>\n",
       "      <td>21279</td>\n",
       "      <td>ATGGAGAGCCTTGTCCCTGGTTTCAACGAGAAAACACACGTCCAAC...</td>\n",
       "    </tr>\n",
       "    <tr>\n",
       "      <th>16</th>\n",
       "      <td>SARS_COV_2</td>\n",
       "      <td>LC650044.1</td>\n",
       "      <td>Alpha</td>\n",
       "      <td>BDB57895.1</td>\n",
       "      <td>ORF1a polyprotein                             ...</td>\n",
       "      <td>13206</td>\n",
       "      <td>ATGGAGAGCCTTGTCCCTGGTTTCAACGAGAAAACACACGTCCAAC...</td>\n",
       "    </tr>\n",
       "    <tr>\n",
       "      <th>17</th>\n",
       "      <td>SARS_COV_2</td>\n",
       "      <td>BS001231.1</td>\n",
       "      <td>Alpha</td>\n",
       "      <td>BDB46324.1</td>\n",
       "      <td>ORF1a polyprotein                             ...</td>\n",
       "      <td>13206</td>\n",
       "      <td>ATGGAGAGCCTTGTCCCTGGTTTCAACGAGAAAACACACGTCCAAC...</td>\n",
       "    </tr>\n",
       "    <tr>\n",
       "      <th>18</th>\n",
       "      <td>SARS_COV_2</td>\n",
       "      <td>LC650865.1</td>\n",
       "      <td>Alpha</td>\n",
       "      <td>BDB96843.1</td>\n",
       "      <td>surface glycoprotein                          ...</td>\n",
       "      <td>3810</td>\n",
       "      <td>ATGTTTGTTTTTCTTGTTTTATTGCCACTAGTCTCTAGTCAGTGTG...</td>\n",
       "    </tr>\n",
       "    <tr>\n",
       "      <th>19</th>\n",
       "      <td>SARS_COV_2</td>\n",
       "      <td>LC650864.1</td>\n",
       "      <td>Alpha</td>\n",
       "      <td>BDB96829.1</td>\n",
       "      <td>ORF1ab polyprotein                            ...</td>\n",
       "      <td>21279</td>\n",
       "      <td>ATGGAGAGCCTTGTCCCTGGTTTCAACGAGAAAACACACGTCCAAC...</td>\n",
       "    </tr>\n",
       "  </tbody>\n",
       "</table>\n",
       "</div>"
      ],
      "text/plain": [
       "          Virus     ACCESSION               WHO_TYPE    ACCESSION_PROT  \\\n",
       "0   SARS_COV_2   LC636493.1    Alpha                  BCY15809.1         \n",
       "1   SARS_COV_2   LC638682.1    Alpha                  BCZ16426.1         \n",
       "2   SARS_COV_2   BS001166.1    Alpha                  BDB07859.1         \n",
       "3   SARS_COV_2   BS001219.1    Alpha                  BDB46179.1         \n",
       "4   SARS_COV_2   BS001143.1    Alpha                  BDA77043.1         \n",
       "5   SARS_COV_2   BS001382.1    Alpha                  BDD78230.1         \n",
       "6   SARS_COV_2   BS001191.1    Alpha                  BDB08160.1         \n",
       "7   SARS_COV_2   BS001144.1    Alpha                  BDA77055.1         \n",
       "8   SARS_COV_2   BS001171.1    Alpha                  BDB07919.1         \n",
       "9   SARS_COV_2   BS001200.1    Alpha                  BDB45952.1         \n",
       "10  SARS_COV_2   LC636489.1    Alpha                  BCY15762.1         \n",
       "11  SARS_COV_2   LC650857.1    Alpha                  BDB96745.1         \n",
       "12  SARS_COV_2   LC636491.1    Alpha                  BCY15786.1         \n",
       "13  SARS_COV_2   LC650858.1    Alpha                  BDB96757.1         \n",
       "14  SARS_COV_2   BS001220.1    Alpha                  BDB46191.1         \n",
       "15  SARS_COV_2   LC650862.1    Alpha                  BDB96805.1         \n",
       "16  SARS_COV_2   LC650044.1    Alpha                  BDB57895.1         \n",
       "17  SARS_COV_2   BS001231.1    Alpha                  BDB46324.1         \n",
       "18  SARS_COV_2   LC650865.1    Alpha                  BDB96843.1         \n",
       "19  SARS_COV_2   LC650864.1    Alpha                  BDB96829.1         \n",
       "\n",
       "                                              PROTEIN  DUZINA_NUC  \\\n",
       "0   ORF1ab polyprotein                            ...       21279   \n",
       "1   ORF1ab polyprotein                            ...       21279   \n",
       "2   ORF1ab polyprotein                            ...       21279   \n",
       "3   ORF1ab polyprotein                            ...       21279   \n",
       "4   ORF1ab polyprotein                            ...       21279   \n",
       "5   ORF1a polyprotein                             ...       13206   \n",
       "6   ORF1a polyprotein                             ...       13206   \n",
       "7   ORF1ab polyprotein                            ...       21279   \n",
       "8   ORF1ab polyprotein                            ...       21279   \n",
       "9   ORF1a polyprotein                             ...       13206   \n",
       "10  ORF1a polyprotein                             ...       13206   \n",
       "11  ORF1ab polyprotein                            ...       21279   \n",
       "12  ORF1a polyprotein                             ...       13206   \n",
       "13  ORF1ab polyprotein                            ...       21279   \n",
       "14  ORF1ab polyprotein                            ...       21279   \n",
       "15  ORF1ab polyprotein                            ...       21279   \n",
       "16  ORF1a polyprotein                             ...       13206   \n",
       "17  ORF1a polyprotein                             ...       13206   \n",
       "18  surface glycoprotein                          ...        3810   \n",
       "19  ORF1ab polyprotein                            ...       21279   \n",
       "\n",
       "                                              KOD_NUC  \n",
       "0   ATGGAGAGCCTTGTCCCTGGTTTCAACGAGAAAACACACGTCCAAC...  \n",
       "1   ATGGAGAGCCTTGTCCCTGGTTTCAACGAGAAAACACACGTCCAAC...  \n",
       "2   ATGGAGAGCTTTGTCCCTGGTTTCAACGAGAAAACACACGTCCAAC...  \n",
       "3   ATGGAGAGCCTTGTCCCTGGTTTCAACGAGAAAACACACGTCCAAC...  \n",
       "4   ATGGAGAGCCTTGTCCCTGGTTTCAACGAGAAAACACACGTCCAAC...  \n",
       "5   ATGGAGAGCCTTGTCCCTGGTTTCAACGAGAAAACACACGTCCAAC...  \n",
       "6   ATGGAGAGCCTTGTCCCTGGTTTCAACGAGAAAACACACGTCCAAC...  \n",
       "7   ATGGAGAGCCTTGTCCCTGGTTTCAACGAGAAAACACACGTCCAAC...  \n",
       "8   ATGGAGAGCCTTGTCCCTGGTTTCAACGAGAAAACACACGTCCAAC...  \n",
       "9   ATGGAGAGCCTTGTCCCTGGTTTCAACGAGAAAACACACGTCCAAC...  \n",
       "10  ATGGAGAGCCTTGTCCCTGGTTTCAACGAGAAAACACACGTCCAAC...  \n",
       "11  ATGGAGAGCCTTGTCCCTGGTTTCAACGAGAAAACACACGTCCAAC...  \n",
       "12  ATGGAGAGCCTTGTCCCTGGTTTCAACGAGAAAACACACGTCCAAC...  \n",
       "13  ATGGAGAGCCTTGTCCCTGGTTTCAACGAGAAAACACACGTCCAAC...  \n",
       "14  ATGGAGAGCCTTGTCCCTGGTTTCAACGAGAAAACACACGTCCAAC...  \n",
       "15  ATGGAGAGCCTTGTCCCTGGTTTCAACGAGAAAACACACGTCCAAC...  \n",
       "16  ATGGAGAGCCTTGTCCCTGGTTTCAACGAGAAAACACACGTCCAAC...  \n",
       "17  ATGGAGAGCCTTGTCCCTGGTTTCAACGAGAAAACACACGTCCAAC...  \n",
       "18  ATGTTTGTTTTTCTTGTTTTATTGCCACTAGTCTCTAGTCAGTGTG...  \n",
       "19  ATGGAGAGCCTTGTCCCTGGTTTCAACGAGAAAACACACGTCCAAC...  "
      ]
     },
     "execution_count": 4,
     "metadata": {},
     "output_type": "execute_result"
    }
   ],
   "source": [
    "\n",
    "X.head(20)"
   ]
  },
  {
   "cell_type": "code",
   "execution_count": 5,
   "id": "92351995",
   "metadata": {},
   "outputs": [],
   "source": [
    "from sklearn.model_selection import train_test_split\n",
    "from sklearn.neighbors import KNeighborsClassifier\n",
    "from sklearn.metrics import accuracy_score, confusion_matrix"
   ]
  },
  {
   "cell_type": "code",
   "execution_count": 6,
   "id": "11b6cb77-f6c1-4ffa-bea4-2a4124fa568b",
   "metadata": {},
   "outputs": [],
   "source": [
    "import pickle\n",
    "import os\n",
    "from zipfile import ZipFile\n",
    "\n",
    "#raspakuj arhivu\n",
    "with ZipFile(\"../data/distance_matrix.zip\",'r') as zip:\n",
    "    zip.extractall(\"..\")\n",
    "\n",
    "with open(\"../data/distance_matrix\", \"rb\") as infile:\n",
    "     \tdistances = pickle.load(infile)\n",
    "\n",
    "os.remove(\"../data/distance_matrix\")"
   ]
  },
  {
   "cell_type": "code",
   "execution_count": 7,
   "id": "0da3fc7a-caed-41b3-ab28-1e7af1f823f0",
   "metadata": {},
   "outputs": [],
   "source": [
    "#ista je metrika samo se sada racuna instant na osnovu indeksa instanci\n",
    "def distance_from_matrix(x, y):\n",
    "    \n",
    "    i = int(x[-1]) #indeks je na poslednjem mestu u listi\n",
    "    j = int(y[-1])\n",
    "\n",
    "    # matrica je u obliku trougla bez dijagonale originalne matrice\n",
    "    first = min(i, j)\n",
    "    second = max(i, j) - (first + 1) # veci indeks smanji za broj instanci u redu matrice do dijagonale \n",
    "\n",
    "    return 0 if i == j else distances[first][second] #udaljenost x od y"
   ]
  },
  {
   "cell_type": "code",
   "execution_count": 8,
   "id": "326190eb-8802-4652-a9fc-0c9e52291077",
   "metadata": {},
   "outputs": [],
   "source": [
    "X_len = X[\"DUZINA_NUC\"].tolist()\n",
    "\n",
    "# uzima u obzir i pocetne duzine sekvenci\n",
    "def distance_with_num_triplets_difference(x, y):\n",
    "\n",
    "    i = int(x[-1]) #indeks je na poslednjem mestu u listi\n",
    "    j = int(y[-1])\n",
    "\n",
    "    first = min(i, j)\n",
    "    second = max(i, j) - (first + 1)\n",
    "\n",
    "    # distanca se povecava za razliku u broju tripleta (kao da nema odsecacnja)\n",
    "    return 0 if i == j else distances[first][second] + abs(X_len[i] - X_len[j]) / 3.0 #udaljenost x od y"
   ]
  },
  {
   "cell_type": "code",
   "execution_count": 9,
   "id": "ef5685be-8412-4276-b862-144ae5dbbba5",
   "metadata": {},
   "outputs": [],
   "source": [
    "# uzima u obzir i pocetne duzine sekvenci\n",
    "def distance_with_num_nucleotides_difference(x, y):\n",
    "\n",
    "    i = int(x[-1])\n",
    "    j = int(y[-1])\n",
    "\n",
    "    first = min(i, j)\n",
    "    second = max(i, j) - (first + 1)\n",
    "\n",
    "    # distanca se povecava za razliku u broju nukleotida (kao da nema odsecacnja)\n",
    "    return 0 if i == j else distances[first][second] + abs(X_len[i] - X_len[j]) #udaljenost x od y"
   ]
  },
  {
   "cell_type": "markdown",
   "id": "8ab811e8",
   "metadata": {},
   "source": [
    "<h1>KNN on virus type using p-adic distance </h1>"
   ]
  },
  {
   "cell_type": "code",
   "execution_count": 10,
   "id": "73210616",
   "metadata": {},
   "outputs": [],
   "source": [
    "y_virus=X[\"Virus\"]\n",
    "X_virus=[] # potreban nam je samo indeks\n",
    "\n",
    "# na svaku instancu X_virus smo appendovali njen index\n",
    "for i in range(len(y_virus)):\n",
    "    X_virus.append([0, i]) # 0 je dodata zbog knn da ne pravi problem\n",
    "    \n",
    "X_train, X_test, y_train, y_test = train_test_split(X_virus, y_virus, test_size=0.33, stratify=y_virus)"
   ]
  },
  {
   "cell_type": "code",
   "execution_count": 11,
   "id": "64730922-bee2-4f92-bdbc-b7b00c8e7624",
   "metadata": {},
   "outputs": [],
   "source": [
    "from sklearn.metrics import accuracy_score, confusion_matrix\n",
    "\n",
    "def perform_and_evaluate_knn(k, metric):\n",
    "    model = KNeighborsClassifier(n_neighbors=k, algorithm='ball_tree', metric=metric)\n",
    "    model.fit(X_train, y_train)\n",
    "\n",
    "    y_pred=model.predict(X_test)\n",
    "    print(f'model evalutaion for k={k} and metric={str(metric)}')\n",
    "    print(f'accuracy_score: {accuracy_score(y_test,y_pred)}')\n",
    "    print(confusion_matrix(y_test,y_pred))"
   ]
  },
  {
   "cell_type": "code",
   "execution_count": 12,
   "id": "c18c4c09-190c-4641-8bd1-76138b861859",
   "metadata": {},
   "outputs": [
    {
     "name": "stdout",
     "output_type": "stream",
     "text": [
      "model evalutaion for k=3 and metric=<function distance_from_matrix at 0x7f36978af4c0>\n",
      "accuracy_score: 0.9967867798944228\n",
      "[[ 609    0    2]\n",
      " [   3    0    3]\n",
      " [   6    0 3734]]\n"
     ]
    }
   ],
   "source": [
    "perform_and_evaluate_knn(3, distance_from_matrix)"
   ]
  },
  {
   "cell_type": "code",
   "execution_count": 13,
   "id": "e1b48a75-dcba-4aec-b9a8-28687ad355dd",
   "metadata": {},
   "outputs": [
    {
     "name": "stdout",
     "output_type": "stream",
     "text": [
      "model evalutaion for k=3 and metric=<function distance_with_num_triplets_difference at 0x7f36978af940>\n",
      "accuracy_score: 0.9986229056690383\n",
      "[[ 611    0    0]\n",
      " [   1    0    5]\n",
      " [   0    0 3740]]\n"
     ]
    }
   ],
   "source": [
    "perform_and_evaluate_knn(3, distance_with_num_triplets_difference)"
   ]
  },
  {
   "cell_type": "code",
   "execution_count": 14,
   "id": "8ed48107-8ea1-4d10-aa20-e9026aaaa7d3",
   "metadata": {},
   "outputs": [
    {
     "name": "stdout",
     "output_type": "stream",
     "text": [
      "model evalutaion for k=3 and metric=<function distance_with_num_nucleotides_difference at 0x7f36978afe50>\n",
      "accuracy_score: 0.9986229056690383\n",
      "[[ 611    0    0]\n",
      " [   1    0    5]\n",
      " [   0    0 3740]]\n"
     ]
    }
   ],
   "source": [
    "perform_and_evaluate_knn(3, distance_with_num_nucleotides_difference)"
   ]
  },
  {
   "cell_type": "markdown",
   "id": "81e75399",
   "metadata": {},
   "source": [
    "<h1>KNN on protein using p-adic distance </h1>"
   ]
  },
  {
   "cell_type": "code",
   "execution_count": 15,
   "id": "47df80c8",
   "metadata": {},
   "outputs": [
    {
     "data": {
      "text/plain": [
       "Index(['Virus', 'ACCESSION', 'WHO_TYPE', 'ACCESSION_PROT', 'PROTEIN',\n",
       "       'DUZINA_NUC', 'KOD_NUC'],\n",
       "      dtype='object')"
      ]
     },
     "execution_count": 15,
     "metadata": {},
     "output_type": "execute_result"
    }
   ],
   "source": [
    "X.columns"
   ]
  },
  {
   "cell_type": "code",
   "execution_count": 16,
   "id": "5e6f666e",
   "metadata": {},
   "outputs": [],
   "source": [
    "y_protein=X[\"PROTEIN\"].str.strip()\n",
    "X_protein=X_virus\n",
    "X_train, X_test, y_train, y_test = train_test_split(X_virus, y_protein, test_size=0.33, stratify=y_protein)"
   ]
  },
  {
   "cell_type": "code",
   "execution_count": 17,
   "id": "bafd02ef",
   "metadata": {},
   "outputs": [
    {
     "data": {
      "text/plain": [
       "array(['ORF1ab polyprotein', 'ORF1a polyprotein', 'surface glycoprotein',\n",
       "       'ORF7a protein', 'ORF8 protein', 'ORF3a protein',\n",
       "       'nucleocapsid phosphoprotein', 'ORF7b protein',\n",
       "       'membrane glycoprotein', 'envelope protein', 'ORF10 protein',\n",
       "       'ORF6 protein', 'ORF3 protein', 'ORF4a protein', 'ORF5 protein',\n",
       "       'ORF1b polyprotein', 'ORF4b protein', 'ORF8b protein'],\n",
       "      dtype=object)"
      ]
     },
     "execution_count": 17,
     "metadata": {},
     "output_type": "execute_result"
    }
   ],
   "source": [
    "y_protein.unique()"
   ]
  },
  {
   "cell_type": "code",
   "execution_count": 18,
   "id": "914daf9a-595f-47ef-aad0-23d0a532ac1c",
   "metadata": {},
   "outputs": [
    {
     "name": "stdout",
     "output_type": "stream",
     "text": [
      "model evalutaion for k=3 and metric=<function distance_from_matrix at 0x7f36978af4c0>\n",
      "accuracy_score: 0.6821207252696809\n",
      "[[   0    0    0    0    1    0    0    0    0    0    0    0    0    0\n",
      "     0    0    0    0]\n",
      " [   0    4 1367    0    0    0    0    0    0    0    0    0    0    0\n",
      "     0    0    0    0]\n",
      " [   0    8 1891    0    0    0    0    0    0    0    0    0    0    0\n",
      "     0    0    0    0]\n",
      " [   0    0    0    2    0    0    0    0    0    0    0    0    0    0\n",
      "     0    0    0    0]\n",
      " [   0    0    0    0   33    0    2    0    0    0    0    0    0    0\n",
      "     0    0    0    0]\n",
      " [   0    0    0    0    0   73    0    0    0    0    0    0    0    0\n",
      "     0    0    0    0]\n",
      " [   0    0    0    0    0    0   22    0    0    0    0    0    0    0\n",
      "     0    0    0    0]\n",
      " [   0    0    0    0    0    0    0   42    0    0    0    0    0    0\n",
      "     0    0    0    0]\n",
      " [   0    0    0    0    0    0    0    2   31    0    0    0    0    0\n",
      "     0    0    1    0]\n",
      " [   0    0    0    0    0    0    0    0    0    3    0    0    0    0\n",
      "     0    0    0    0]\n",
      " [   0    0    0    0    0    0    0    0    0    0    8    0    0    0\n",
      "     0    0    0    0]\n",
      " [   0    0    0    0    0    0    0    0    0    0    0    3    0    0\n",
      "     0    0    0    0]\n",
      " [   0    0    0    0    0    0    0    0    0    0    0    0   25    0\n",
      "     0    0    0    0]\n",
      " [   0    0    0    0    0    0    0    0    0    0    0    0    0   20\n",
      "     0    0    0    0]\n",
      " [   0    0    0    0    0    0    0    0    0    0    0    0    0    0\n",
      "    13    0    0    0]\n",
      " [   0    0    0    0    0    0    0    0    2    0    0    0    0    0\n",
      "     0   43    0    0]\n",
      " [   0    0    0    0    0    0    0    0    0    0    0    0    0    0\n",
      "     0    0  211    0]\n",
      " [   0    0    0    0    0    0    0    0    0    0    0    0    0    0\n",
      "     0    2    0  548]]\n"
     ]
    }
   ],
   "source": [
    "perform_and_evaluate_knn(3, distance_from_matrix)"
   ]
  },
  {
   "cell_type": "code",
   "execution_count": 19,
   "id": "d65de06a-cad2-4a14-b708-34aa73f2a6db",
   "metadata": {},
   "outputs": [
    {
     "name": "stdout",
     "output_type": "stream",
     "text": [
      "model evalutaion for k=3 and metric=<function distance_with_num_triplets_difference at 0x7f36978af940>\n",
      "accuracy_score: 0.9983933899472114\n",
      "[[   0    0    0    0    0    0    0    0    0    0    0    1    0    0\n",
      "     0    0    0    0]\n",
      " [   0 1371    0    0    0    0    0    0    0    0    0    0    0    0\n",
      "     0    0    0    0]\n",
      " [   0    0 1899    0    0    0    0    0    0    0    0    0    0    0\n",
      "     0    0    0    0]\n",
      " [   0    0    0    2    0    0    0    0    0    0    0    0    0    0\n",
      "     0    0    0    0]\n",
      " [   0    0    0    0   34    0    1    0    0    0    0    0    0    0\n",
      "     0    0    0    0]\n",
      " [   0    0    0    0    0   73    0    0    0    0    0    0    0    0\n",
      "     0    0    0    0]\n",
      " [   0    0    0    0    0    0   22    0    0    0    0    0    0    0\n",
      "     0    0    0    0]\n",
      " [   0    0    0    0    0    0    0   42    0    0    0    0    0    0\n",
      "     0    0    0    0]\n",
      " [   0    0    0    0    0    0    0    2   32    0    0    0    0    0\n",
      "     0    0    0    0]\n",
      " [   0    0    0    0    0    0    0    0    0    3    0    0    0    0\n",
      "     0    0    0    0]\n",
      " [   0    0    0    0    0    0    0    0    0    0    8    0    0    0\n",
      "     0    0    0    0]\n",
      " [   0    0    0    0    0    0    0    0    0    0    0    3    0    0\n",
      "     0    0    0    0]\n",
      " [   0    0    0    0    0    0    0    0    0    0    0    0   24    0\n",
      "     1    0    0    0]\n",
      " [   0    0    0    0    0    0    0    0    0    0    0    0    0   20\n",
      "     0    0    0    0]\n",
      " [   0    0    0    0    0    0    0    0    0    0    0    0    0    0\n",
      "    13    0    0    0]\n",
      " [   0    0    0    0    0    0    0    0    2    0    0    0    0    0\n",
      "     0   43    0    0]\n",
      " [   0    0    0    0    0    0    0    0    0    0    0    0    0    0\n",
      "     0    0  211    0]\n",
      " [   0    0    0    0    0    0    0    0    0    0    0    0    0    0\n",
      "     0    0    0  550]]\n"
     ]
    }
   ],
   "source": [
    "perform_and_evaluate_knn(3, distance_with_num_triplets_difference)"
   ]
  },
  {
   "cell_type": "code",
   "execution_count": 20,
   "id": "f18f54ba-7148-4d02-9b7c-535fafc797ed",
   "metadata": {},
   "outputs": [
    {
     "name": "stdout",
     "output_type": "stream",
     "text": [
      "model evalutaion for k=3 and metric=<function distance_with_num_nucleotides_difference at 0x7f36978afe50>\n",
      "accuracy_score: 0.9986229056690383\n",
      "[[   0    0    0    0    0    0    0    0    0    0    0    1    0    0\n",
      "     0    0    0    0]\n",
      " [   0 1371    0    0    0    0    0    0    0    0    0    0    0    0\n",
      "     0    0    0    0]\n",
      " [   0    0 1899    0    0    0    0    0    0    0    0    0    0    0\n",
      "     0    0    0    0]\n",
      " [   0    0    0    2    0    0    0    0    0    0    0    0    0    0\n",
      "     0    0    0    0]\n",
      " [   0    0    0    0   34    0    0    0    0    0    0    0    0    1\n",
      "     0    0    0    0]\n",
      " [   0    0    0    0    0   73    0    0    0    0    0    0    0    0\n",
      "     0    0    0    0]\n",
      " [   0    0    0    0    0    0   22    0    0    0    0    0    0    0\n",
      "     0    0    0    0]\n",
      " [   0    0    0    0    0    0    0   42    0    0    0    0    0    0\n",
      "     0    0    0    0]\n",
      " [   0    0    0    0    0    0    0    2   32    0    0    0    0    0\n",
      "     0    0    0    0]\n",
      " [   0    0    0    0    0    0    0    0    0    3    0    0    0    0\n",
      "     0    0    0    0]\n",
      " [   0    0    0    0    1    0    0    0    0    0    7    0    0    0\n",
      "     0    0    0    0]\n",
      " [   0    0    0    0    0    0    0    0    0    0    0    3    0    0\n",
      "     0    0    0    0]\n",
      " [   0    0    0    0    0    0    0    0    0    0    0    0   24    0\n",
      "     1    0    0    0]\n",
      " [   0    0    0    0    0    0    0    0    0    0    0    0    0   20\n",
      "     0    0    0    0]\n",
      " [   0    0    0    0    0    0    0    0    0    0    0    0    0    0\n",
      "    13    0    0    0]\n",
      " [   0    0    0    0    0    0    0    0    0    0    0    0    0    0\n",
      "     0   45    0    0]\n",
      " [   0    0    0    0    0    0    0    0    0    0    0    0    0    0\n",
      "     0    0  211    0]\n",
      " [   0    0    0    0    0    0    0    0    0    0    0    0    0    0\n",
      "     0    0    0  550]]\n"
     ]
    }
   ],
   "source": [
    "perform_and_evaluate_knn(3, distance_with_num_nucleotides_difference)"
   ]
  },
  {
   "cell_type": "code",
   "execution_count": 21,
   "id": "58973d48",
   "metadata": {},
   "outputs": [],
   "source": [
    "#izdvojiti sars2 i uraditi klasifikaciju po who"
   ]
  },
  {
   "cell_type": "markdown",
   "id": "6211c402-f03b-4017-ac78-f8d705764fb8",
   "metadata": {},
   "source": [
    "<h1> KNN on who_type using p-adic distance </h1>"
   ]
  },
  {
   "cell_type": "code",
   "execution_count": 22,
   "id": "bd57a5cb-8592-46b6-a37e-61ef228398d6",
   "metadata": {},
   "outputs": [],
   "source": [
    "import numpy as np\n",
    "\n",
    "virusTypes = np.array(X['Virus'])\n",
    "X_who = []\n",
    "indexes = []\n",
    "for i in range(len(virusTypes)):\n",
    "    if(virusTypes[i].strip() == \"SARS_COV_2\"):\n",
    "        X_who.append([0, i])\n",
    "        indexes.append(i)\n",
    "\n",
    "sars2_only = X.filter(items=indexes, axis=0)"
   ]
  },
  {
   "cell_type": "code",
   "execution_count": 23,
   "id": "b636a26c-ecb6-4a9e-b4b8-ffec2a2dae0b",
   "metadata": {},
   "outputs": [],
   "source": [
    "y_who=sars2_only[\"WHO_TYPE\"].str.strip()\n",
    "\n",
    "X_train, X_test, y_train, y_test = train_test_split(X_who, y_who, test_size=0.33, stratify=y_who)"
   ]
  },
  {
   "cell_type": "code",
   "execution_count": 24,
   "id": "d49922f1-4c43-4290-ba3b-d9a9c4a016ff",
   "metadata": {},
   "outputs": [
    {
     "data": {
      "text/plain": [
       "array(['Delta', 'Eta', 'Beta', 'Omicron', 'Iota', 'Gamma', 'Epsilon',\n",
       "       'Alpha', 'Lambda', 'Zeta', 'Kappa', 'Theta', 'Mu'], dtype=object)"
      ]
     },
     "execution_count": 24,
     "metadata": {},
     "output_type": "execute_result"
    }
   ],
   "source": [
    "y_train.unique()"
   ]
  },
  {
   "cell_type": "code",
   "execution_count": 25,
   "id": "6dc596de-cee3-4d36-a38d-d29b2e09ebb7",
   "metadata": {},
   "outputs": [
    {
     "name": "stdout",
     "output_type": "stream",
     "text": [
      "model evalutaion for k=3 and metric=<function distance_from_matrix at 0x7f36978af4c0>\n",
      "accuracy_score: 0.19946524064171123\n",
      "[[491   2   2   0   0   0   0   0   0   0   0   0   0]\n",
      " [169   2  20   1   0   0   0   0   1   0   0   0   0]\n",
      " [398   2  93   1   0   1   0   0   0   0   0   0   0]\n",
      " [405   0  31  59   0   0   0   0   0   0   0   0   0]\n",
      " [177   1   2   0  25   0   2   0   0   0   0   0   0]\n",
      " [405   2  32   3   0  53   0   0   0   0   0   0   0]\n",
      " [471   1  13   1   0   0   9   0   0   0   0   0   0]\n",
      " [ 41   0  11   0   0   0   0   0   0   0   0   0   0]\n",
      " [120   0   5   0   0   0  10   0   0   0   0   0   0]\n",
      " [ 17   0   5   0   0   0   0   0   0   0   0   0   0]\n",
      " [469   0   1   0   0   0  12   0   0   0  13   0   0]\n",
      " [  6   0   1   0   0   0   0   0   0   0   0   0   0]\n",
      " [141   0  12   0   0   0   0   0   0   0   0   0   1]]\n"
     ]
    }
   ],
   "source": [
    "perform_and_evaluate_knn(3, distance_from_matrix)"
   ]
  },
  {
   "cell_type": "code",
   "execution_count": 26,
   "id": "7ed3e7ee-87c5-42d6-9d60-704d16647857",
   "metadata": {},
   "outputs": [
    {
     "name": "stdout",
     "output_type": "stream",
     "text": [
      "model evalutaion for k=3 and metric=<function distance_with_num_triplets_difference at 0x7f36978af940>\n",
      "accuracy_score: 0.3245989304812834\n",
      "[[484   2   3   0   0   4   0   0   0   0   2   0   0]\n",
      " [168   2  21   1   0   0   0   0   1   0   0   0   0]\n",
      " [ 16   2 475   1   0   1   0   0   0   0   0   0   0]\n",
      " [ 13   0 423  59   0   0   0   0   0   0   0   0   0]\n",
      " [176   1   2   1  25   0   1   0   0   0   1   0   0]\n",
      " [400   2  32   0   0  60   0   0   0   0   1   0   0]\n",
      " [414   1  14   2   1   3  59   0   0   0   1   0   0]\n",
      " [  0   0  42  10   0   0   0   0   0   0   0   0   0]\n",
      " [103   0   5   0   0   0  10   0  17   0   0   0   0]\n",
      " [  2   0  18   2   0   0   0   0   0   0   0   0   0]\n",
      " [295   0  20   4   1 140   3   0   0   0  32   0   0]\n",
      " [  1   0   5   0   0   0   0   0   0   0   1   0   0]\n",
      " [  2   0 127  24   0   0   0   0   0   0   0   0   1]]\n"
     ]
    }
   ],
   "source": [
    "perform_and_evaluate_knn(3, distance_with_num_triplets_difference)"
   ]
  },
  {
   "cell_type": "code",
   "execution_count": 27,
   "id": "be7ee8fa-f35e-4011-9c21-525898dc5f6d",
   "metadata": {},
   "outputs": [
    {
     "name": "stdout",
     "output_type": "stream",
     "text": [
      "model evalutaion for k=3 and metric=<function distance_with_num_nucleotides_difference at 0x7f36978afe50>\n",
      "accuracy_score: 0.3245989304812834\n",
      "[[485   1   3   0   0   4   0   0   0   0   2   0   0]\n",
      " [168   2  21   1   0   0   0   0   1   0   0   0   0]\n",
      " [ 16   2 475   1   0   1   0   0   0   0   0   0   0]\n",
      " [ 13   0 422  59   0   0   0   0   0   1   0   0   0]\n",
      " [176   1   2   1  25   0   1   0   0   0   1   0   0]\n",
      " [400   2  32   0   0  59   0   0   0   0   2   0   0]\n",
      " [414   1  14   2   1   3  59   0   0   0   1   0   0]\n",
      " [  0   0  42  10   0   0   0   0   0   0   0   0   0]\n",
      " [103   0   5   0   0   0  10   0  17   0   0   0   0]\n",
      " [  1   0  18   3   0   0   0   0   0   0   0   0   0]\n",
      " [295   0  20   4   1 140   3   0   0   0  32   0   0]\n",
      " [  1   0   5   0   0   0   0   0   0   0   1   0   0]\n",
      " [  2   0 127  24   0   0   0   0   0   0   0   0   1]]\n"
     ]
    }
   ],
   "source": [
    "perform_and_evaluate_knn(3, distance_with_num_nucleotides_difference)"
   ]
  },
  {
   "cell_type": "code",
   "execution_count": null,
   "id": "0020583d-132f-460e-a8e6-7626e52d15c4",
   "metadata": {},
   "outputs": [],
   "source": []
  },
  {
   "cell_type": "code",
   "execution_count": null,
   "id": "a25697d3-bd1d-4595-9cb2-283c5f714ac0",
   "metadata": {},
   "outputs": [],
   "source": []
  },
  {
   "cell_type": "code",
   "execution_count": 28,
   "id": "40f25dc6-7b3f-438b-aecf-5b2499189eb8",
   "metadata": {},
   "outputs": [],
   "source": [
    "# TO DO zavrsiti implementaciju GridSearch (unakrsna validacija) i implementirati GridSearch za sve 3 klasifikacije"
   ]
  },
  {
   "cell_type": "code",
   "execution_count": 29,
   "id": "5a6a0856-a921-46ed-aa17-a6ed661e631f",
   "metadata": {},
   "outputs": [],
   "source": [
    "from sklearn.model_selection import GridSearchCV"
   ]
  },
  {
   "cell_type": "code",
   "execution_count": 30,
   "id": "d05c255c-ce6c-4dd8-8f97-8d455ef811c1",
   "metadata": {},
   "outputs": [],
   "source": [
    "# gs = GridSearchCV(estimator=KNeighborsClassifier(), param_grid={'n_neighbors': list(range(2, 10)),\n",
    "                                                               # 'metric' : [distance_from_matrix, distance_with_num_triplets_difference]})"
   ]
  },
  {
   "cell_type": "code",
   "execution_count": 31,
   "id": "4e866409-1275-44aa-87a7-8eaac8018777",
   "metadata": {},
   "outputs": [],
   "source": [
    "# gs.fit(X_train, y_train)"
   ]
  },
  {
   "cell_type": "code",
   "execution_count": 32,
   "id": "c21faa27-c873-4b4d-a0a0-0bcf9d7a49b4",
   "metadata": {},
   "outputs": [],
   "source": [
    "# gs.best_score_"
   ]
  },
  {
   "cell_type": "code",
   "execution_count": 33,
   "id": "2428956b-0e18-4e88-b1fa-dd3aa0bbcb09",
   "metadata": {},
   "outputs": [],
   "source": [
    "# y_pred = gs.predict(X_test)"
   ]
  },
  {
   "cell_type": "code",
   "execution_count": 34,
   "id": "e88e9a02-87dc-4f9f-863e-811582132875",
   "metadata": {},
   "outputs": [],
   "source": [
    "# accuracy_score(y_test, y_pred)"
   ]
  },
  {
   "cell_type": "code",
   "execution_count": 35,
   "id": "9b5ca2ff-9223-49e8-895c-291fd8743351",
   "metadata": {},
   "outputs": [],
   "source": [
    "# gs.best_estimator_"
   ]
  },
  {
   "cell_type": "code",
   "execution_count": null,
   "id": "64033e2f-2d04-4c04-9205-952c28746326",
   "metadata": {},
   "outputs": [],
   "source": []
  },
  {
   "cell_type": "code",
   "execution_count": null,
   "id": "7b4d853f-6290-4533-bb93-e2bb70cf117c",
   "metadata": {},
   "outputs": [],
   "source": []
  },
  {
   "cell_type": "code",
   "execution_count": null,
   "id": "aab4f648-b769-4b5e-8064-573dcbb8dc03",
   "metadata": {},
   "outputs": [],
   "source": []
  },
  {
   "cell_type": "code",
   "execution_count": null,
   "id": "a683f309-700f-4dbb-91f7-194960ac69d0",
   "metadata": {},
   "outputs": [],
   "source": []
  },
  {
   "cell_type": "code",
   "execution_count": null,
   "id": "54f2624a-9e87-484b-aa4b-ba2e6eba2b0e",
   "metadata": {},
   "outputs": [],
   "source": []
  },
  {
   "cell_type": "code",
   "execution_count": null,
   "id": "e7e7ecbd-e2a8-4f29-a804-01bd378bbbe7",
   "metadata": {},
   "outputs": [],
   "source": []
  }
 ],
 "metadata": {
  "kernelspec": {
   "display_name": "Python 3 (ipykernel)",
   "language": "python",
   "name": "python3"
  },
  "language_info": {
   "codemirror_mode": {
    "name": "ipython",
    "version": 3
   },
   "file_extension": ".py",
   "mimetype": "text/x-python",
   "name": "python",
   "nbconvert_exporter": "python",
   "pygments_lexer": "ipython3",
   "version": "3.8.10"
  }
 },
 "nbformat": 4,
 "nbformat_minor": 5
}
