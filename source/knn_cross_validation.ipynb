{
 "cells": [
  {
   "cell_type": "code",
   "execution_count": 1,
   "id": "9fd5d9a4-f73b-44d3-8257-36bc4f29242d",
   "metadata": {},
   "outputs": [
    {
     "data": {
      "text/plain": [
       "<module 'fileDistanceProcessing' from '/home/marko/Desktop/ip2/ip2_projekat/source/fileDistanceProcessing.py'>"
      ]
     },
     "execution_count": 1,
     "metadata": {},
     "output_type": "execute_result"
    }
   ],
   "source": [
    "import pandas as pd\n",
    "import importlib\n",
    "import fileDistanceProcessing as fdp\n",
    "import importlib\n",
    "importlib.reload(fdp) "
   ]
  },
  {
   "cell_type": "code",
   "execution_count": 2,
   "id": "a2ddb890-1351-43f5-96c3-5a076c939a24",
   "metadata": {},
   "outputs": [],
   "source": [
    "X=pd.read_csv(\"../data/csv/sars2_mers_sars1.txt\",skipinitialspace = True )"
   ]
  },
  {
   "cell_type": "code",
   "execution_count": 3,
   "id": "7bf9ea05-9308-458c-b2ba-b9e6af59593f",
   "metadata": {},
   "outputs": [
    {
     "data": {
      "text/plain": [
       "Index(['Virus', 'ACCESSION', 'WHO_TYPE', 'ACCESSION_PROT', 'PROTEIN',\n",
       "       'DUZINA_NUC', 'KOD_NUC'],\n",
       "      dtype='object')"
      ]
     },
     "execution_count": 3,
     "metadata": {},
     "output_type": "execute_result"
    }
   ],
   "source": [
    "X.columns = X.columns.str.strip()\n",
    "X.columns"
   ]
  },
  {
   "cell_type": "code",
   "execution_count": 4,
   "id": "c2b316c2-b0c5-490f-a9ed-25229aa8479a",
   "metadata": {},
   "outputs": [],
   "source": [
    "from sklearn.model_selection import train_test_split\n",
    "from sklearn.neighbors import KNeighborsClassifier\n",
    "from sklearn.metrics import accuracy_score, confusion_matrix"
   ]
  },
  {
   "cell_type": "code",
   "execution_count": 5,
   "id": "ea1c92ad-3ced-41c4-ab72-d4753194558f",
   "metadata": {},
   "outputs": [],
   "source": [
    "distances = fdp.deserialize_and_decompress_distance_matrix(\"../data/full_distances_matrix.7z\")"
   ]
  },
  {
   "cell_type": "code",
   "execution_count": 7,
   "id": "67dd5b32-cfac-4dea-932b-8fe4c9fa55a1",
   "metadata": {},
   "outputs": [],
   "source": [
    "# metrika zasnovana samo na 5-adic distanci\n",
    "# instant racunanje iz matrice\n",
    "def five_adic_distance_from_matrix(x, y):\n",
    "    \n",
    "    i = int(x[-1]) #indeks je na poslednjem mestu u listi\n",
    "    j = int(y[-1])\n",
    "\n",
    "    # matrica je u obliku trougla bez dijagonale originalne matrice\n",
    "    first = min(i, j)\n",
    "    second = max(i, j) - (first + 1) # veci indeks smanji za broj instanci u redu matrice do dijagonale \n",
    "\n",
    "    return 0 if i == j else distances[first][second] #udaljenost x od y"
   ]
  },
  {
   "cell_type": "code",
   "execution_count": 8,
   "id": "cd2f3178-1690-4537-a42f-298ce760d793",
   "metadata": {},
   "outputs": [],
   "source": [
    "y_virus=X[\"Virus\"]\n",
    "X_virus=[] # potreban nam je samo indeks\n",
    "\n",
    "# na svaku instancu X_virus smo appendovali njen index\n",
    "for i in range(len(y_virus)):\n",
    "    X_virus.append([0, i]) # 0 je dodata zbog knn da ne pravi problem"
   ]
  },
  {
   "cell_type": "code",
   "execution_count": 9,
   "id": "aae7f9f5-f094-467e-8deb-ea6b917f73c2",
   "metadata": {},
   "outputs": [],
   "source": [
    "from sklearn.model_selection import GridSearchCV"
   ]
  },
  {
   "cell_type": "code",
   "execution_count": 10,
   "id": "928e5765-a0f4-4b70-b35f-193e1536eae2",
   "metadata": {},
   "outputs": [],
   "source": [
    "param_grid = {'n_neighbors': range(2, 10),\n",
    "              'metric': [five_adic_distance_from_matrix]}"
   ]
  },
  {
   "cell_type": "code",
   "execution_count": 11,
   "id": "739d6f84-ea57-4dc5-aee7-17649d066090",
   "metadata": {},
   "outputs": [],
   "source": [
    "from sklearn.neighbors import KNeighborsClassifier"
   ]
  },
  {
   "cell_type": "code",
   "execution_count": 12,
   "id": "86d18dfc-c40b-41fc-80ee-aefd3016e689",
   "metadata": {},
   "outputs": [],
   "source": [
    "gs = GridSearchCV(KNeighborsClassifier(),\n",
    "             param_grid=param_grid,\n",
    "             scoring='accuracy',\n",
    "             cv=4,\n",
    "             verbose=5)"
   ]
  },
  {
   "cell_type": "code",
   "execution_count": 14,
   "id": "a3b12fd5-ed6f-475b-b271-cc71951b6e98",
   "metadata": {},
   "outputs": [
    {
     "name": "stdout",
     "output_type": "stream",
     "text": [
      "Fitting 4 folds for each of 8 candidates, totalling 32 fits\n",
      "[CV 1/4] END metric=<function five_adic_distance_from_matrix at 0x7f7b302abf70>, n_neighbors=2;, score=0.996 total time=  40.2s\n",
      "[CV 2/4] END metric=<function five_adic_distance_from_matrix at 0x7f7b302abf70>, n_neighbors=2;, score=0.998 total time=  42.2s\n",
      "[CV 3/4] END metric=<function five_adic_distance_from_matrix at 0x7f7b302abf70>, n_neighbors=2;, score=0.998 total time=  45.1s\n",
      "[CV 4/4] END metric=<function five_adic_distance_from_matrix at 0x7f7b302abf70>, n_neighbors=2;, score=0.998 total time=  47.8s\n",
      "[CV 1/4] END metric=<function five_adic_distance_from_matrix at 0x7f7b302abf70>, n_neighbors=3;, score=0.996 total time=  40.3s\n",
      "[CV 2/4] END metric=<function five_adic_distance_from_matrix at 0x7f7b302abf70>, n_neighbors=3;, score=0.998 total time=  42.4s\n",
      "[CV 3/4] END metric=<function five_adic_distance_from_matrix at 0x7f7b302abf70>, n_neighbors=3;, score=0.998 total time=  44.8s\n",
      "[CV 4/4] END metric=<function five_adic_distance_from_matrix at 0x7f7b302abf70>, n_neighbors=3;, score=0.999 total time=  48.2s\n",
      "[CV 1/4] END metric=<function five_adic_distance_from_matrix at 0x7f7b302abf70>, n_neighbors=4;, score=0.996 total time=  39.6s\n",
      "[CV 2/4] END metric=<function five_adic_distance_from_matrix at 0x7f7b302abf70>, n_neighbors=4;, score=0.998 total time=  42.2s\n",
      "[CV 3/4] END metric=<function five_adic_distance_from_matrix at 0x7f7b302abf70>, n_neighbors=4;, score=0.998 total time=  44.9s\n",
      "[CV 4/4] END metric=<function five_adic_distance_from_matrix at 0x7f7b302abf70>, n_neighbors=4;, score=0.999 total time=  46.7s\n",
      "[CV 1/4] END metric=<function five_adic_distance_from_matrix at 0x7f7b302abf70>, n_neighbors=5;, score=0.996 total time=  38.9s\n",
      "[CV 2/4] END metric=<function five_adic_distance_from_matrix at 0x7f7b302abf70>, n_neighbors=5;, score=0.998 total time=  40.4s\n",
      "[CV 3/4] END metric=<function five_adic_distance_from_matrix at 0x7f7b302abf70>, n_neighbors=5;, score=0.998 total time=  42.7s\n",
      "[CV 4/4] END metric=<function five_adic_distance_from_matrix at 0x7f7b302abf70>, n_neighbors=5;, score=0.996 total time=  45.9s\n",
      "[CV 1/4] END metric=<function five_adic_distance_from_matrix at 0x7f7b302abf70>, n_neighbors=6;, score=0.996 total time=  38.9s\n",
      "[CV 2/4] END metric=<function five_adic_distance_from_matrix at 0x7f7b302abf70>, n_neighbors=6;, score=0.998 total time=  40.4s\n",
      "[CV 3/4] END metric=<function five_adic_distance_from_matrix at 0x7f7b302abf70>, n_neighbors=6;, score=0.998 total time=  42.8s\n",
      "[CV 4/4] END metric=<function five_adic_distance_from_matrix at 0x7f7b302abf70>, n_neighbors=6;, score=0.995 total time=  45.6s\n",
      "[CV 1/4] END metric=<function five_adic_distance_from_matrix at 0x7f7b302abf70>, n_neighbors=7;, score=0.996 total time=  41.1s\n",
      "[CV 2/4] END metric=<function five_adic_distance_from_matrix at 0x7f7b302abf70>, n_neighbors=7;, score=0.998 total time=  45.8s\n",
      "[CV 3/4] END metric=<function five_adic_distance_from_matrix at 0x7f7b302abf70>, n_neighbors=7;, score=0.996 total time=  48.1s\n",
      "[CV 4/4] END metric=<function five_adic_distance_from_matrix at 0x7f7b302abf70>, n_neighbors=7;, score=0.996 total time=  53.3s\n",
      "[CV 1/4] END metric=<function five_adic_distance_from_matrix at 0x7f7b302abf70>, n_neighbors=8;, score=0.996 total time=  42.1s\n",
      "[CV 2/4] END metric=<function five_adic_distance_from_matrix at 0x7f7b302abf70>, n_neighbors=8;, score=0.998 total time=  43.9s\n",
      "[CV 3/4] END metric=<function five_adic_distance_from_matrix at 0x7f7b302abf70>, n_neighbors=8;, score=0.996 total time=  43.0s\n",
      "[CV 4/4] END metric=<function five_adic_distance_from_matrix at 0x7f7b302abf70>, n_neighbors=8;, score=0.996 total time=  45.9s\n",
      "[CV 1/4] END metric=<function five_adic_distance_from_matrix at 0x7f7b302abf70>, n_neighbors=9;, score=0.996 total time=  39.0s\n",
      "[CV 2/4] END metric=<function five_adic_distance_from_matrix at 0x7f7b302abf70>, n_neighbors=9;, score=0.998 total time=  40.7s\n",
      "[CV 3/4] END metric=<function five_adic_distance_from_matrix at 0x7f7b302abf70>, n_neighbors=9;, score=0.996 total time=  43.2s\n",
      "[CV 4/4] END metric=<function five_adic_distance_from_matrix at 0x7f7b302abf70>, n_neighbors=9;, score=0.995 total time=  46.1s\n"
     ]
    },
    {
     "data": {
      "text/html": [
       "<style>#sk-container-id-1 {color: black;}#sk-container-id-1 pre{padding: 0;}#sk-container-id-1 div.sk-toggleable {background-color: white;}#sk-container-id-1 label.sk-toggleable__label {cursor: pointer;display: block;width: 100%;margin-bottom: 0;padding: 0.3em;box-sizing: border-box;text-align: center;}#sk-container-id-1 label.sk-toggleable__label-arrow:before {content: \"▸\";float: left;margin-right: 0.25em;color: #696969;}#sk-container-id-1 label.sk-toggleable__label-arrow:hover:before {color: black;}#sk-container-id-1 div.sk-estimator:hover label.sk-toggleable__label-arrow:before {color: black;}#sk-container-id-1 div.sk-toggleable__content {max-height: 0;max-width: 0;overflow: hidden;text-align: left;background-color: #f0f8ff;}#sk-container-id-1 div.sk-toggleable__content pre {margin: 0.2em;color: black;border-radius: 0.25em;background-color: #f0f8ff;}#sk-container-id-1 input.sk-toggleable__control:checked~div.sk-toggleable__content {max-height: 200px;max-width: 100%;overflow: auto;}#sk-container-id-1 input.sk-toggleable__control:checked~label.sk-toggleable__label-arrow:before {content: \"▾\";}#sk-container-id-1 div.sk-estimator input.sk-toggleable__control:checked~label.sk-toggleable__label {background-color: #d4ebff;}#sk-container-id-1 div.sk-label input.sk-toggleable__control:checked~label.sk-toggleable__label {background-color: #d4ebff;}#sk-container-id-1 input.sk-hidden--visually {border: 0;clip: rect(1px 1px 1px 1px);clip: rect(1px, 1px, 1px, 1px);height: 1px;margin: -1px;overflow: hidden;padding: 0;position: absolute;width: 1px;}#sk-container-id-1 div.sk-estimator {font-family: monospace;background-color: #f0f8ff;border: 1px dotted black;border-radius: 0.25em;box-sizing: border-box;margin-bottom: 0.5em;}#sk-container-id-1 div.sk-estimator:hover {background-color: #d4ebff;}#sk-container-id-1 div.sk-parallel-item::after {content: \"\";width: 100%;border-bottom: 1px solid gray;flex-grow: 1;}#sk-container-id-1 div.sk-label:hover label.sk-toggleable__label {background-color: #d4ebff;}#sk-container-id-1 div.sk-serial::before {content: \"\";position: absolute;border-left: 1px solid gray;box-sizing: border-box;top: 0;bottom: 0;left: 50%;z-index: 0;}#sk-container-id-1 div.sk-serial {display: flex;flex-direction: column;align-items: center;background-color: white;padding-right: 0.2em;padding-left: 0.2em;position: relative;}#sk-container-id-1 div.sk-item {position: relative;z-index: 1;}#sk-container-id-1 div.sk-parallel {display: flex;align-items: stretch;justify-content: center;background-color: white;position: relative;}#sk-container-id-1 div.sk-item::before, #sk-container-id-1 div.sk-parallel-item::before {content: \"\";position: absolute;border-left: 1px solid gray;box-sizing: border-box;top: 0;bottom: 0;left: 50%;z-index: -1;}#sk-container-id-1 div.sk-parallel-item {display: flex;flex-direction: column;z-index: 1;position: relative;background-color: white;}#sk-container-id-1 div.sk-parallel-item:first-child::after {align-self: flex-end;width: 50%;}#sk-container-id-1 div.sk-parallel-item:last-child::after {align-self: flex-start;width: 50%;}#sk-container-id-1 div.sk-parallel-item:only-child::after {width: 0;}#sk-container-id-1 div.sk-dashed-wrapped {border: 1px dashed gray;margin: 0 0.4em 0.5em 0.4em;box-sizing: border-box;padding-bottom: 0.4em;background-color: white;}#sk-container-id-1 div.sk-label label {font-family: monospace;font-weight: bold;display: inline-block;line-height: 1.2em;}#sk-container-id-1 div.sk-label-container {text-align: center;}#sk-container-id-1 div.sk-container {/* jupyter's `normalize.less` sets `[hidden] { display: none; }` but bootstrap.min.css set `[hidden] { display: none !important; }` so we also need the `!important` here to be able to override the default hidden behavior on the sphinx rendered scikit-learn.org. See: https://github.com/scikit-learn/scikit-learn/issues/21755 */display: inline-block !important;position: relative;}#sk-container-id-1 div.sk-text-repr-fallback {display: none;}</style><div id=\"sk-container-id-1\" class=\"sk-top-container\"><div class=\"sk-text-repr-fallback\"><pre>GridSearchCV(cv=4, estimator=KNeighborsClassifier(),\n",
       "             param_grid={&#x27;metric&#x27;: [&lt;function five_adic_distance_from_matrix at 0x7f7b302abf70&gt;],\n",
       "                         &#x27;n_neighbors&#x27;: range(2, 10)},\n",
       "             scoring=&#x27;accuracy&#x27;, verbose=5)</pre><b>In a Jupyter environment, please rerun this cell to show the HTML representation or trust the notebook. <br />On GitHub, the HTML representation is unable to render, please try loading this page with nbviewer.org.</b></div><div class=\"sk-container\" hidden><div class=\"sk-item sk-dashed-wrapped\"><div class=\"sk-label-container\"><div class=\"sk-label sk-toggleable\"><input class=\"sk-toggleable__control sk-hidden--visually\" id=\"sk-estimator-id-1\" type=\"checkbox\" ><label for=\"sk-estimator-id-1\" class=\"sk-toggleable__label sk-toggleable__label-arrow\">GridSearchCV</label><div class=\"sk-toggleable__content\"><pre>GridSearchCV(cv=4, estimator=KNeighborsClassifier(),\n",
       "             param_grid={&#x27;metric&#x27;: [&lt;function five_adic_distance_from_matrix at 0x7f7b302abf70&gt;],\n",
       "                         &#x27;n_neighbors&#x27;: range(2, 10)},\n",
       "             scoring=&#x27;accuracy&#x27;, verbose=5)</pre></div></div></div><div class=\"sk-parallel\"><div class=\"sk-parallel-item\"><div class=\"sk-item\"><div class=\"sk-label-container\"><div class=\"sk-label sk-toggleable\"><input class=\"sk-toggleable__control sk-hidden--visually\" id=\"sk-estimator-id-2\" type=\"checkbox\" ><label for=\"sk-estimator-id-2\" class=\"sk-toggleable__label sk-toggleable__label-arrow\">estimator: KNeighborsClassifier</label><div class=\"sk-toggleable__content\"><pre>KNeighborsClassifier()</pre></div></div></div><div class=\"sk-serial\"><div class=\"sk-item\"><div class=\"sk-estimator sk-toggleable\"><input class=\"sk-toggleable__control sk-hidden--visually\" id=\"sk-estimator-id-3\" type=\"checkbox\" ><label for=\"sk-estimator-id-3\" class=\"sk-toggleable__label sk-toggleable__label-arrow\">KNeighborsClassifier</label><div class=\"sk-toggleable__content\"><pre>KNeighborsClassifier()</pre></div></div></div></div></div></div></div></div></div></div>"
      ],
      "text/plain": [
       "GridSearchCV(cv=4, estimator=KNeighborsClassifier(),\n",
       "             param_grid={'metric': [<function five_adic_distance_from_matrix at 0x7f7b302abf70>],\n",
       "                         'n_neighbors': range(2, 10)},\n",
       "             scoring='accuracy', verbose=5)"
      ]
     },
     "execution_count": 14,
     "metadata": {},
     "output_type": "execute_result"
    }
   ],
   "source": [
    "gs.fit(X_virus, y_virus)"
   ]
  },
  {
   "cell_type": "code",
   "execution_count": 17,
   "id": "f6a4004f-a7e3-4441-9ca4-968f64309428",
   "metadata": {},
   "outputs": [],
   "source": [
    "y_protein = X[\"PROTEIN\"]\n",
    "X_protein = X_virus"
   ]
  },
  {
   "cell_type": "code",
   "execution_count": 18,
   "id": "3924f4d6-d270-4fa2-b710-b880a5d5bd4f",
   "metadata": {},
   "outputs": [
    {
     "name": "stdout",
     "output_type": "stream",
     "text": [
      "Fitting 4 folds for each of 8 candidates, totalling 32 fits\n"
     ]
    },
    {
     "name": "stderr",
     "output_type": "stream",
     "text": [
      "/home/marko/.local/lib/python3.8/site-packages/sklearn/model_selection/_split.py:737: UserWarning: The least populated class in y has only 2 members, which is less than n_splits=4.\n",
      "  warnings.warn(\n"
     ]
    },
    {
     "name": "stdout",
     "output_type": "stream",
     "text": [
      "[CV 1/4] END metric=<function five_adic_distance_from_matrix at 0x7f7b302abf70>, n_neighbors=2;, score=0.995 total time=  37.2s\n",
      "[CV 2/4] END metric=<function five_adic_distance_from_matrix at 0x7f7b302abf70>, n_neighbors=2;, score=0.996 total time=  39.3s\n",
      "[CV 3/4] END metric=<function five_adic_distance_from_matrix at 0x7f7b302abf70>, n_neighbors=2;, score=0.996 total time=  42.5s\n",
      "[CV 4/4] END metric=<function five_adic_distance_from_matrix at 0x7f7b302abf70>, n_neighbors=2;, score=0.994 total time=  45.9s\n",
      "[CV 1/4] END metric=<function five_adic_distance_from_matrix at 0x7f7b302abf70>, n_neighbors=3;, score=0.999 total time=  37.2s\n",
      "[CV 2/4] END metric=<function five_adic_distance_from_matrix at 0x7f7b302abf70>, n_neighbors=3;, score=0.999 total time=  39.8s\n",
      "[CV 3/4] END metric=<function five_adic_distance_from_matrix at 0x7f7b302abf70>, n_neighbors=3;, score=0.999 total time=  42.5s\n",
      "[CV 4/4] END metric=<function five_adic_distance_from_matrix at 0x7f7b302abf70>, n_neighbors=3;, score=0.998 total time=  45.6s\n",
      "[CV 1/4] END metric=<function five_adic_distance_from_matrix at 0x7f7b302abf70>, n_neighbors=4;, score=0.999 total time=  37.6s\n",
      "[CV 2/4] END metric=<function five_adic_distance_from_matrix at 0x7f7b302abf70>, n_neighbors=4;, score=0.999 total time=  40.3s\n",
      "[CV 3/4] END metric=<function five_adic_distance_from_matrix at 0x7f7b302abf70>, n_neighbors=4;, score=0.998 total time=  42.3s\n",
      "[CV 4/4] END metric=<function five_adic_distance_from_matrix at 0x7f7b302abf70>, n_neighbors=4;, score=0.998 total time=  46.0s\n",
      "[CV 1/4] END metric=<function five_adic_distance_from_matrix at 0x7f7b302abf70>, n_neighbors=5;, score=0.999 total time=  39.8s\n",
      "[CV 2/4] END metric=<function five_adic_distance_from_matrix at 0x7f7b302abf70>, n_neighbors=5;, score=0.999 total time=  39.9s\n",
      "[CV 3/4] END metric=<function five_adic_distance_from_matrix at 0x7f7b302abf70>, n_neighbors=5;, score=0.998 total time=  42.4s\n",
      "[CV 4/4] END metric=<function five_adic_distance_from_matrix at 0x7f7b302abf70>, n_neighbors=5;, score=0.998 total time=  46.3s\n",
      "[CV 1/4] END metric=<function five_adic_distance_from_matrix at 0x7f7b302abf70>, n_neighbors=6;, score=0.999 total time=  37.8s\n",
      "[CV 2/4] END metric=<function five_adic_distance_from_matrix at 0x7f7b302abf70>, n_neighbors=6;, score=0.999 total time=  40.0s\n",
      "[CV 3/4] END metric=<function five_adic_distance_from_matrix at 0x7f7b302abf70>, n_neighbors=6;, score=0.997 total time=  42.6s\n",
      "[CV 4/4] END metric=<function five_adic_distance_from_matrix at 0x7f7b302abf70>, n_neighbors=6;, score=0.998 total time=  47.3s\n",
      "[CV 1/4] END metric=<function five_adic_distance_from_matrix at 0x7f7b302abf70>, n_neighbors=7;, score=0.999 total time=  37.9s\n",
      "[CV 2/4] END metric=<function five_adic_distance_from_matrix at 0x7f7b302abf70>, n_neighbors=7;, score=0.999 total time=  40.0s\n",
      "[CV 3/4] END metric=<function five_adic_distance_from_matrix at 0x7f7b302abf70>, n_neighbors=7;, score=0.997 total time=  42.8s\n",
      "[CV 4/4] END metric=<function five_adic_distance_from_matrix at 0x7f7b302abf70>, n_neighbors=7;, score=0.998 total time=  46.0s\n",
      "[CV 1/4] END metric=<function five_adic_distance_from_matrix at 0x7f7b302abf70>, n_neighbors=8;, score=0.999 total time=  38.2s\n",
      "[CV 2/4] END metric=<function five_adic_distance_from_matrix at 0x7f7b302abf70>, n_neighbors=8;, score=0.999 total time=  40.0s\n",
      "[CV 3/4] END metric=<function five_adic_distance_from_matrix at 0x7f7b302abf70>, n_neighbors=8;, score=0.997 total time=  42.4s\n",
      "[CV 4/4] END metric=<function five_adic_distance_from_matrix at 0x7f7b302abf70>, n_neighbors=8;, score=0.998 total time=  45.9s\n",
      "[CV 1/4] END metric=<function five_adic_distance_from_matrix at 0x7f7b302abf70>, n_neighbors=9;, score=0.999 total time=  38.8s\n",
      "[CV 2/4] END metric=<function five_adic_distance_from_matrix at 0x7f7b302abf70>, n_neighbors=9;, score=0.999 total time=  40.3s\n",
      "[CV 3/4] END metric=<function five_adic_distance_from_matrix at 0x7f7b302abf70>, n_neighbors=9;, score=0.997 total time=  43.0s\n",
      "[CV 4/4] END metric=<function five_adic_distance_from_matrix at 0x7f7b302abf70>, n_neighbors=9;, score=0.998 total time=  47.5s\n"
     ]
    },
    {
     "data": {
      "text/html": [
       "<style>#sk-container-id-3 {color: black;}#sk-container-id-3 pre{padding: 0;}#sk-container-id-3 div.sk-toggleable {background-color: white;}#sk-container-id-3 label.sk-toggleable__label {cursor: pointer;display: block;width: 100%;margin-bottom: 0;padding: 0.3em;box-sizing: border-box;text-align: center;}#sk-container-id-3 label.sk-toggleable__label-arrow:before {content: \"▸\";float: left;margin-right: 0.25em;color: #696969;}#sk-container-id-3 label.sk-toggleable__label-arrow:hover:before {color: black;}#sk-container-id-3 div.sk-estimator:hover label.sk-toggleable__label-arrow:before {color: black;}#sk-container-id-3 div.sk-toggleable__content {max-height: 0;max-width: 0;overflow: hidden;text-align: left;background-color: #f0f8ff;}#sk-container-id-3 div.sk-toggleable__content pre {margin: 0.2em;color: black;border-radius: 0.25em;background-color: #f0f8ff;}#sk-container-id-3 input.sk-toggleable__control:checked~div.sk-toggleable__content {max-height: 200px;max-width: 100%;overflow: auto;}#sk-container-id-3 input.sk-toggleable__control:checked~label.sk-toggleable__label-arrow:before {content: \"▾\";}#sk-container-id-3 div.sk-estimator input.sk-toggleable__control:checked~label.sk-toggleable__label {background-color: #d4ebff;}#sk-container-id-3 div.sk-label input.sk-toggleable__control:checked~label.sk-toggleable__label {background-color: #d4ebff;}#sk-container-id-3 input.sk-hidden--visually {border: 0;clip: rect(1px 1px 1px 1px);clip: rect(1px, 1px, 1px, 1px);height: 1px;margin: -1px;overflow: hidden;padding: 0;position: absolute;width: 1px;}#sk-container-id-3 div.sk-estimator {font-family: monospace;background-color: #f0f8ff;border: 1px dotted black;border-radius: 0.25em;box-sizing: border-box;margin-bottom: 0.5em;}#sk-container-id-3 div.sk-estimator:hover {background-color: #d4ebff;}#sk-container-id-3 div.sk-parallel-item::after {content: \"\";width: 100%;border-bottom: 1px solid gray;flex-grow: 1;}#sk-container-id-3 div.sk-label:hover label.sk-toggleable__label {background-color: #d4ebff;}#sk-container-id-3 div.sk-serial::before {content: \"\";position: absolute;border-left: 1px solid gray;box-sizing: border-box;top: 0;bottom: 0;left: 50%;z-index: 0;}#sk-container-id-3 div.sk-serial {display: flex;flex-direction: column;align-items: center;background-color: white;padding-right: 0.2em;padding-left: 0.2em;position: relative;}#sk-container-id-3 div.sk-item {position: relative;z-index: 1;}#sk-container-id-3 div.sk-parallel {display: flex;align-items: stretch;justify-content: center;background-color: white;position: relative;}#sk-container-id-3 div.sk-item::before, #sk-container-id-3 div.sk-parallel-item::before {content: \"\";position: absolute;border-left: 1px solid gray;box-sizing: border-box;top: 0;bottom: 0;left: 50%;z-index: -1;}#sk-container-id-3 div.sk-parallel-item {display: flex;flex-direction: column;z-index: 1;position: relative;background-color: white;}#sk-container-id-3 div.sk-parallel-item:first-child::after {align-self: flex-end;width: 50%;}#sk-container-id-3 div.sk-parallel-item:last-child::after {align-self: flex-start;width: 50%;}#sk-container-id-3 div.sk-parallel-item:only-child::after {width: 0;}#sk-container-id-3 div.sk-dashed-wrapped {border: 1px dashed gray;margin: 0 0.4em 0.5em 0.4em;box-sizing: border-box;padding-bottom: 0.4em;background-color: white;}#sk-container-id-3 div.sk-label label {font-family: monospace;font-weight: bold;display: inline-block;line-height: 1.2em;}#sk-container-id-3 div.sk-label-container {text-align: center;}#sk-container-id-3 div.sk-container {/* jupyter's `normalize.less` sets `[hidden] { display: none; }` but bootstrap.min.css set `[hidden] { display: none !important; }` so we also need the `!important` here to be able to override the default hidden behavior on the sphinx rendered scikit-learn.org. See: https://github.com/scikit-learn/scikit-learn/issues/21755 */display: inline-block !important;position: relative;}#sk-container-id-3 div.sk-text-repr-fallback {display: none;}</style><div id=\"sk-container-id-3\" class=\"sk-top-container\"><div class=\"sk-text-repr-fallback\"><pre>GridSearchCV(cv=4, estimator=KNeighborsClassifier(),\n",
       "             param_grid={&#x27;metric&#x27;: [&lt;function five_adic_distance_from_matrix at 0x7f7b302abf70&gt;],\n",
       "                         &#x27;n_neighbors&#x27;: range(2, 10)},\n",
       "             scoring=&#x27;accuracy&#x27;, verbose=5)</pre><b>In a Jupyter environment, please rerun this cell to show the HTML representation or trust the notebook. <br />On GitHub, the HTML representation is unable to render, please try loading this page with nbviewer.org.</b></div><div class=\"sk-container\" hidden><div class=\"sk-item sk-dashed-wrapped\"><div class=\"sk-label-container\"><div class=\"sk-label sk-toggleable\"><input class=\"sk-toggleable__control sk-hidden--visually\" id=\"sk-estimator-id-7\" type=\"checkbox\" ><label for=\"sk-estimator-id-7\" class=\"sk-toggleable__label sk-toggleable__label-arrow\">GridSearchCV</label><div class=\"sk-toggleable__content\"><pre>GridSearchCV(cv=4, estimator=KNeighborsClassifier(),\n",
       "             param_grid={&#x27;metric&#x27;: [&lt;function five_adic_distance_from_matrix at 0x7f7b302abf70&gt;],\n",
       "                         &#x27;n_neighbors&#x27;: range(2, 10)},\n",
       "             scoring=&#x27;accuracy&#x27;, verbose=5)</pre></div></div></div><div class=\"sk-parallel\"><div class=\"sk-parallel-item\"><div class=\"sk-item\"><div class=\"sk-label-container\"><div class=\"sk-label sk-toggleable\"><input class=\"sk-toggleable__control sk-hidden--visually\" id=\"sk-estimator-id-8\" type=\"checkbox\" ><label for=\"sk-estimator-id-8\" class=\"sk-toggleable__label sk-toggleable__label-arrow\">estimator: KNeighborsClassifier</label><div class=\"sk-toggleable__content\"><pre>KNeighborsClassifier()</pre></div></div></div><div class=\"sk-serial\"><div class=\"sk-item\"><div class=\"sk-estimator sk-toggleable\"><input class=\"sk-toggleable__control sk-hidden--visually\" id=\"sk-estimator-id-9\" type=\"checkbox\" ><label for=\"sk-estimator-id-9\" class=\"sk-toggleable__label sk-toggleable__label-arrow\">KNeighborsClassifier</label><div class=\"sk-toggleable__content\"><pre>KNeighborsClassifier()</pre></div></div></div></div></div></div></div></div></div></div>"
      ],
      "text/plain": [
       "GridSearchCV(cv=4, estimator=KNeighborsClassifier(),\n",
       "             param_grid={'metric': [<function five_adic_distance_from_matrix at 0x7f7b302abf70>],\n",
       "                         'n_neighbors': range(2, 10)},\n",
       "             scoring='accuracy', verbose=5)"
      ]
     },
     "execution_count": 18,
     "metadata": {},
     "output_type": "execute_result"
    }
   ],
   "source": [
    "gs.fit(X_protein, y_protein)"
   ]
  },
  {
   "cell_type": "code",
   "execution_count": 19,
   "id": "9bcbd1fd-b90b-43d9-bdec-6f4dfaa656ed",
   "metadata": {},
   "outputs": [],
   "source": [
    "import numpy as np\n",
    "\n",
    "virusTypes = np.array(X['Virus'])\n",
    "X_who = []\n",
    "indexes = []\n",
    "for i in range(len(virusTypes)):\n",
    "    if(virusTypes[i].strip() == \"SARS_COV_2\"):\n",
    "        X_who.append([0, i])\n",
    "        indexes.append(i)\n",
    "\n",
    "sars2_only = X.filter(items=indexes, axis=0)"
   ]
  },
  {
   "cell_type": "code",
   "execution_count": 20,
   "id": "f1677e6b-cde9-415a-aabf-4dc966c92567",
   "metadata": {},
   "outputs": [],
   "source": [
    "y_who=sars2_only[\"WHO_TYPE\"].str.strip()"
   ]
  },
  {
   "cell_type": "code",
   "execution_count": 21,
   "id": "aefdb84c-b149-4af8-9e8c-3eedb443184d",
   "metadata": {},
   "outputs": [
    {
     "name": "stdout",
     "output_type": "stream",
     "text": [
      "Fitting 4 folds for each of 8 candidates, totalling 32 fits\n",
      "[CV 1/4] END metric=<function five_adic_distance_from_matrix at 0x7f7b302abf70>, n_neighbors=2;, score=0.893 total time=  31.6s\n",
      "[CV 2/4] END metric=<function five_adic_distance_from_matrix at 0x7f7b302abf70>, n_neighbors=2;, score=0.966 total time=  32.1s\n",
      "[CV 3/4] END metric=<function five_adic_distance_from_matrix at 0x7f7b302abf70>, n_neighbors=2;, score=0.968 total time=  32.4s\n",
      "[CV 4/4] END metric=<function five_adic_distance_from_matrix at 0x7f7b302abf70>, n_neighbors=2;, score=0.966 total time=  32.2s\n",
      "[CV 1/4] END metric=<function five_adic_distance_from_matrix at 0x7f7b302abf70>, n_neighbors=3;, score=0.894 total time=  31.5s\n",
      "[CV 2/4] END metric=<function five_adic_distance_from_matrix at 0x7f7b302abf70>, n_neighbors=3;, score=0.967 total time=  32.2s\n",
      "[CV 3/4] END metric=<function five_adic_distance_from_matrix at 0x7f7b302abf70>, n_neighbors=3;, score=0.974 total time=  32.3s\n",
      "[CV 4/4] END metric=<function five_adic_distance_from_matrix at 0x7f7b302abf70>, n_neighbors=3;, score=0.969 total time=  32.2s\n",
      "[CV 1/4] END metric=<function five_adic_distance_from_matrix at 0x7f7b302abf70>, n_neighbors=4;, score=0.900 total time=  31.6s\n",
      "[CV 2/4] END metric=<function five_adic_distance_from_matrix at 0x7f7b302abf70>, n_neighbors=4;, score=0.966 total time=  32.1s\n",
      "[CV 3/4] END metric=<function five_adic_distance_from_matrix at 0x7f7b302abf70>, n_neighbors=4;, score=0.971 total time=  32.4s\n",
      "[CV 4/4] END metric=<function five_adic_distance_from_matrix at 0x7f7b302abf70>, n_neighbors=4;, score=0.968 total time=  33.2s\n",
      "[CV 1/4] END metric=<function five_adic_distance_from_matrix at 0x7f7b302abf70>, n_neighbors=5;, score=0.899 total time=  33.1s\n",
      "[CV 2/4] END metric=<function five_adic_distance_from_matrix at 0x7f7b302abf70>, n_neighbors=5;, score=0.965 total time=  35.9s\n",
      "[CV 3/4] END metric=<function five_adic_distance_from_matrix at 0x7f7b302abf70>, n_neighbors=5;, score=0.973 total time=  33.8s\n",
      "[CV 4/4] END metric=<function five_adic_distance_from_matrix at 0x7f7b302abf70>, n_neighbors=5;, score=0.965 total time=  33.2s\n",
      "[CV 1/4] END metric=<function five_adic_distance_from_matrix at 0x7f7b302abf70>, n_neighbors=6;, score=0.899 total time=  31.7s\n",
      "[CV 2/4] END metric=<function five_adic_distance_from_matrix at 0x7f7b302abf70>, n_neighbors=6;, score=0.964 total time=  32.6s\n",
      "[CV 3/4] END metric=<function five_adic_distance_from_matrix at 0x7f7b302abf70>, n_neighbors=6;, score=0.972 total time=  33.3s\n",
      "[CV 4/4] END metric=<function five_adic_distance_from_matrix at 0x7f7b302abf70>, n_neighbors=6;, score=0.963 total time=  33.0s\n",
      "[CV 1/4] END metric=<function five_adic_distance_from_matrix at 0x7f7b302abf70>, n_neighbors=7;, score=0.900 total time=  32.4s\n",
      "[CV 2/4] END metric=<function five_adic_distance_from_matrix at 0x7f7b302abf70>, n_neighbors=7;, score=0.963 total time=  32.4s\n",
      "[CV 3/4] END metric=<function five_adic_distance_from_matrix at 0x7f7b302abf70>, n_neighbors=7;, score=0.971 total time=  32.5s\n",
      "[CV 4/4] END metric=<function five_adic_distance_from_matrix at 0x7f7b302abf70>, n_neighbors=7;, score=0.961 total time=  32.8s\n",
      "[CV 1/4] END metric=<function five_adic_distance_from_matrix at 0x7f7b302abf70>, n_neighbors=8;, score=0.895 total time=  31.9s\n",
      "[CV 2/4] END metric=<function five_adic_distance_from_matrix at 0x7f7b302abf70>, n_neighbors=8;, score=0.961 total time=  33.3s\n",
      "[CV 3/4] END metric=<function five_adic_distance_from_matrix at 0x7f7b302abf70>, n_neighbors=8;, score=0.969 total time=  33.9s\n",
      "[CV 4/4] END metric=<function five_adic_distance_from_matrix at 0x7f7b302abf70>, n_neighbors=8;, score=0.957 total time=  32.8s\n",
      "[CV 1/4] END metric=<function five_adic_distance_from_matrix at 0x7f7b302abf70>, n_neighbors=9;, score=0.896 total time=  33.3s\n",
      "[CV 2/4] END metric=<function five_adic_distance_from_matrix at 0x7f7b302abf70>, n_neighbors=9;, score=0.960 total time=  32.6s\n",
      "[CV 3/4] END metric=<function five_adic_distance_from_matrix at 0x7f7b302abf70>, n_neighbors=9;, score=0.966 total time=  33.6s\n",
      "[CV 4/4] END metric=<function five_adic_distance_from_matrix at 0x7f7b302abf70>, n_neighbors=9;, score=0.956 total time=  36.1s\n"
     ]
    },
    {
     "data": {
      "text/html": [
       "<style>#sk-container-id-4 {color: black;}#sk-container-id-4 pre{padding: 0;}#sk-container-id-4 div.sk-toggleable {background-color: white;}#sk-container-id-4 label.sk-toggleable__label {cursor: pointer;display: block;width: 100%;margin-bottom: 0;padding: 0.3em;box-sizing: border-box;text-align: center;}#sk-container-id-4 label.sk-toggleable__label-arrow:before {content: \"▸\";float: left;margin-right: 0.25em;color: #696969;}#sk-container-id-4 label.sk-toggleable__label-arrow:hover:before {color: black;}#sk-container-id-4 div.sk-estimator:hover label.sk-toggleable__label-arrow:before {color: black;}#sk-container-id-4 div.sk-toggleable__content {max-height: 0;max-width: 0;overflow: hidden;text-align: left;background-color: #f0f8ff;}#sk-container-id-4 div.sk-toggleable__content pre {margin: 0.2em;color: black;border-radius: 0.25em;background-color: #f0f8ff;}#sk-container-id-4 input.sk-toggleable__control:checked~div.sk-toggleable__content {max-height: 200px;max-width: 100%;overflow: auto;}#sk-container-id-4 input.sk-toggleable__control:checked~label.sk-toggleable__label-arrow:before {content: \"▾\";}#sk-container-id-4 div.sk-estimator input.sk-toggleable__control:checked~label.sk-toggleable__label {background-color: #d4ebff;}#sk-container-id-4 div.sk-label input.sk-toggleable__control:checked~label.sk-toggleable__label {background-color: #d4ebff;}#sk-container-id-4 input.sk-hidden--visually {border: 0;clip: rect(1px 1px 1px 1px);clip: rect(1px, 1px, 1px, 1px);height: 1px;margin: -1px;overflow: hidden;padding: 0;position: absolute;width: 1px;}#sk-container-id-4 div.sk-estimator {font-family: monospace;background-color: #f0f8ff;border: 1px dotted black;border-radius: 0.25em;box-sizing: border-box;margin-bottom: 0.5em;}#sk-container-id-4 div.sk-estimator:hover {background-color: #d4ebff;}#sk-container-id-4 div.sk-parallel-item::after {content: \"\";width: 100%;border-bottom: 1px solid gray;flex-grow: 1;}#sk-container-id-4 div.sk-label:hover label.sk-toggleable__label {background-color: #d4ebff;}#sk-container-id-4 div.sk-serial::before {content: \"\";position: absolute;border-left: 1px solid gray;box-sizing: border-box;top: 0;bottom: 0;left: 50%;z-index: 0;}#sk-container-id-4 div.sk-serial {display: flex;flex-direction: column;align-items: center;background-color: white;padding-right: 0.2em;padding-left: 0.2em;position: relative;}#sk-container-id-4 div.sk-item {position: relative;z-index: 1;}#sk-container-id-4 div.sk-parallel {display: flex;align-items: stretch;justify-content: center;background-color: white;position: relative;}#sk-container-id-4 div.sk-item::before, #sk-container-id-4 div.sk-parallel-item::before {content: \"\";position: absolute;border-left: 1px solid gray;box-sizing: border-box;top: 0;bottom: 0;left: 50%;z-index: -1;}#sk-container-id-4 div.sk-parallel-item {display: flex;flex-direction: column;z-index: 1;position: relative;background-color: white;}#sk-container-id-4 div.sk-parallel-item:first-child::after {align-self: flex-end;width: 50%;}#sk-container-id-4 div.sk-parallel-item:last-child::after {align-self: flex-start;width: 50%;}#sk-container-id-4 div.sk-parallel-item:only-child::after {width: 0;}#sk-container-id-4 div.sk-dashed-wrapped {border: 1px dashed gray;margin: 0 0.4em 0.5em 0.4em;box-sizing: border-box;padding-bottom: 0.4em;background-color: white;}#sk-container-id-4 div.sk-label label {font-family: monospace;font-weight: bold;display: inline-block;line-height: 1.2em;}#sk-container-id-4 div.sk-label-container {text-align: center;}#sk-container-id-4 div.sk-container {/* jupyter's `normalize.less` sets `[hidden] { display: none; }` but bootstrap.min.css set `[hidden] { display: none !important; }` so we also need the `!important` here to be able to override the default hidden behavior on the sphinx rendered scikit-learn.org. See: https://github.com/scikit-learn/scikit-learn/issues/21755 */display: inline-block !important;position: relative;}#sk-container-id-4 div.sk-text-repr-fallback {display: none;}</style><div id=\"sk-container-id-4\" class=\"sk-top-container\"><div class=\"sk-text-repr-fallback\"><pre>GridSearchCV(cv=4, estimator=KNeighborsClassifier(),\n",
       "             param_grid={&#x27;metric&#x27;: [&lt;function five_adic_distance_from_matrix at 0x7f7b302abf70&gt;],\n",
       "                         &#x27;n_neighbors&#x27;: range(2, 10)},\n",
       "             scoring=&#x27;accuracy&#x27;, verbose=5)</pre><b>In a Jupyter environment, please rerun this cell to show the HTML representation or trust the notebook. <br />On GitHub, the HTML representation is unable to render, please try loading this page with nbviewer.org.</b></div><div class=\"sk-container\" hidden><div class=\"sk-item sk-dashed-wrapped\"><div class=\"sk-label-container\"><div class=\"sk-label sk-toggleable\"><input class=\"sk-toggleable__control sk-hidden--visually\" id=\"sk-estimator-id-10\" type=\"checkbox\" ><label for=\"sk-estimator-id-10\" class=\"sk-toggleable__label sk-toggleable__label-arrow\">GridSearchCV</label><div class=\"sk-toggleable__content\"><pre>GridSearchCV(cv=4, estimator=KNeighborsClassifier(),\n",
       "             param_grid={&#x27;metric&#x27;: [&lt;function five_adic_distance_from_matrix at 0x7f7b302abf70&gt;],\n",
       "                         &#x27;n_neighbors&#x27;: range(2, 10)},\n",
       "             scoring=&#x27;accuracy&#x27;, verbose=5)</pre></div></div></div><div class=\"sk-parallel\"><div class=\"sk-parallel-item\"><div class=\"sk-item\"><div class=\"sk-label-container\"><div class=\"sk-label sk-toggleable\"><input class=\"sk-toggleable__control sk-hidden--visually\" id=\"sk-estimator-id-11\" type=\"checkbox\" ><label for=\"sk-estimator-id-11\" class=\"sk-toggleable__label sk-toggleable__label-arrow\">estimator: KNeighborsClassifier</label><div class=\"sk-toggleable__content\"><pre>KNeighborsClassifier()</pre></div></div></div><div class=\"sk-serial\"><div class=\"sk-item\"><div class=\"sk-estimator sk-toggleable\"><input class=\"sk-toggleable__control sk-hidden--visually\" id=\"sk-estimator-id-12\" type=\"checkbox\" ><label for=\"sk-estimator-id-12\" class=\"sk-toggleable__label sk-toggleable__label-arrow\">KNeighborsClassifier</label><div class=\"sk-toggleable__content\"><pre>KNeighborsClassifier()</pre></div></div></div></div></div></div></div></div></div></div>"
      ],
      "text/plain": [
       "GridSearchCV(cv=4, estimator=KNeighborsClassifier(),\n",
       "             param_grid={'metric': [<function five_adic_distance_from_matrix at 0x7f7b302abf70>],\n",
       "                         'n_neighbors': range(2, 10)},\n",
       "             scoring='accuracy', verbose=5)"
      ]
     },
     "execution_count": 21,
     "metadata": {},
     "output_type": "execute_result"
    }
   ],
   "source": [
    "gs.fit(X_who, y_who)"
   ]
  },
  {
   "cell_type": "code",
   "execution_count": 22,
   "id": "68e2ebed-d919-436a-9b83-37be712af90a",
   "metadata": {},
   "outputs": [
    {
     "data": {
      "text/html": [
       "<style>#sk-container-id-5 {color: black;}#sk-container-id-5 pre{padding: 0;}#sk-container-id-5 div.sk-toggleable {background-color: white;}#sk-container-id-5 label.sk-toggleable__label {cursor: pointer;display: block;width: 100%;margin-bottom: 0;padding: 0.3em;box-sizing: border-box;text-align: center;}#sk-container-id-5 label.sk-toggleable__label-arrow:before {content: \"▸\";float: left;margin-right: 0.25em;color: #696969;}#sk-container-id-5 label.sk-toggleable__label-arrow:hover:before {color: black;}#sk-container-id-5 div.sk-estimator:hover label.sk-toggleable__label-arrow:before {color: black;}#sk-container-id-5 div.sk-toggleable__content {max-height: 0;max-width: 0;overflow: hidden;text-align: left;background-color: #f0f8ff;}#sk-container-id-5 div.sk-toggleable__content pre {margin: 0.2em;color: black;border-radius: 0.25em;background-color: #f0f8ff;}#sk-container-id-5 input.sk-toggleable__control:checked~div.sk-toggleable__content {max-height: 200px;max-width: 100%;overflow: auto;}#sk-container-id-5 input.sk-toggleable__control:checked~label.sk-toggleable__label-arrow:before {content: \"▾\";}#sk-container-id-5 div.sk-estimator input.sk-toggleable__control:checked~label.sk-toggleable__label {background-color: #d4ebff;}#sk-container-id-5 div.sk-label input.sk-toggleable__control:checked~label.sk-toggleable__label {background-color: #d4ebff;}#sk-container-id-5 input.sk-hidden--visually {border: 0;clip: rect(1px 1px 1px 1px);clip: rect(1px, 1px, 1px, 1px);height: 1px;margin: -1px;overflow: hidden;padding: 0;position: absolute;width: 1px;}#sk-container-id-5 div.sk-estimator {font-family: monospace;background-color: #f0f8ff;border: 1px dotted black;border-radius: 0.25em;box-sizing: border-box;margin-bottom: 0.5em;}#sk-container-id-5 div.sk-estimator:hover {background-color: #d4ebff;}#sk-container-id-5 div.sk-parallel-item::after {content: \"\";width: 100%;border-bottom: 1px solid gray;flex-grow: 1;}#sk-container-id-5 div.sk-label:hover label.sk-toggleable__label {background-color: #d4ebff;}#sk-container-id-5 div.sk-serial::before {content: \"\";position: absolute;border-left: 1px solid gray;box-sizing: border-box;top: 0;bottom: 0;left: 50%;z-index: 0;}#sk-container-id-5 div.sk-serial {display: flex;flex-direction: column;align-items: center;background-color: white;padding-right: 0.2em;padding-left: 0.2em;position: relative;}#sk-container-id-5 div.sk-item {position: relative;z-index: 1;}#sk-container-id-5 div.sk-parallel {display: flex;align-items: stretch;justify-content: center;background-color: white;position: relative;}#sk-container-id-5 div.sk-item::before, #sk-container-id-5 div.sk-parallel-item::before {content: \"\";position: absolute;border-left: 1px solid gray;box-sizing: border-box;top: 0;bottom: 0;left: 50%;z-index: -1;}#sk-container-id-5 div.sk-parallel-item {display: flex;flex-direction: column;z-index: 1;position: relative;background-color: white;}#sk-container-id-5 div.sk-parallel-item:first-child::after {align-self: flex-end;width: 50%;}#sk-container-id-5 div.sk-parallel-item:last-child::after {align-self: flex-start;width: 50%;}#sk-container-id-5 div.sk-parallel-item:only-child::after {width: 0;}#sk-container-id-5 div.sk-dashed-wrapped {border: 1px dashed gray;margin: 0 0.4em 0.5em 0.4em;box-sizing: border-box;padding-bottom: 0.4em;background-color: white;}#sk-container-id-5 div.sk-label label {font-family: monospace;font-weight: bold;display: inline-block;line-height: 1.2em;}#sk-container-id-5 div.sk-label-container {text-align: center;}#sk-container-id-5 div.sk-container {/* jupyter's `normalize.less` sets `[hidden] { display: none; }` but bootstrap.min.css set `[hidden] { display: none !important; }` so we also need the `!important` here to be able to override the default hidden behavior on the sphinx rendered scikit-learn.org. See: https://github.com/scikit-learn/scikit-learn/issues/21755 */display: inline-block !important;position: relative;}#sk-container-id-5 div.sk-text-repr-fallback {display: none;}</style><div id=\"sk-container-id-5\" class=\"sk-top-container\"><div class=\"sk-text-repr-fallback\"><pre>KNeighborsClassifier(metric=&lt;function five_adic_distance_from_matrix at 0x7f7b302abf70&gt;,\n",
       "                     n_neighbors=4)</pre><b>In a Jupyter environment, please rerun this cell to show the HTML representation or trust the notebook. <br />On GitHub, the HTML representation is unable to render, please try loading this page with nbviewer.org.</b></div><div class=\"sk-container\" hidden><div class=\"sk-item\"><div class=\"sk-estimator sk-toggleable\"><input class=\"sk-toggleable__control sk-hidden--visually\" id=\"sk-estimator-id-13\" type=\"checkbox\" checked><label for=\"sk-estimator-id-13\" class=\"sk-toggleable__label sk-toggleable__label-arrow\">KNeighborsClassifier</label><div class=\"sk-toggleable__content\"><pre>KNeighborsClassifier(metric=&lt;function five_adic_distance_from_matrix at 0x7f7b302abf70&gt;,\n",
       "                     n_neighbors=4)</pre></div></div></div></div></div>"
      ],
      "text/plain": [
       "KNeighborsClassifier(metric=<function five_adic_distance_from_matrix at 0x7f7b302abf70>,\n",
       "                     n_neighbors=4)"
      ]
     },
     "execution_count": 22,
     "metadata": {},
     "output_type": "execute_result"
    }
   ],
   "source": [
    "gs.best_estimator_"
   ]
  },
  {
   "cell_type": "code",
   "execution_count": 23,
   "id": "12bcc1a2-a127-4bc3-9ba0-11c2af0327e7",
   "metadata": {},
   "outputs": [
    {
     "data": {
      "text/html": [
       "<style>#sk-container-id-6 {color: black;}#sk-container-id-6 pre{padding: 0;}#sk-container-id-6 div.sk-toggleable {background-color: white;}#sk-container-id-6 label.sk-toggleable__label {cursor: pointer;display: block;width: 100%;margin-bottom: 0;padding: 0.3em;box-sizing: border-box;text-align: center;}#sk-container-id-6 label.sk-toggleable__label-arrow:before {content: \"▸\";float: left;margin-right: 0.25em;color: #696969;}#sk-container-id-6 label.sk-toggleable__label-arrow:hover:before {color: black;}#sk-container-id-6 div.sk-estimator:hover label.sk-toggleable__label-arrow:before {color: black;}#sk-container-id-6 div.sk-toggleable__content {max-height: 0;max-width: 0;overflow: hidden;text-align: left;background-color: #f0f8ff;}#sk-container-id-6 div.sk-toggleable__content pre {margin: 0.2em;color: black;border-radius: 0.25em;background-color: #f0f8ff;}#sk-container-id-6 input.sk-toggleable__control:checked~div.sk-toggleable__content {max-height: 200px;max-width: 100%;overflow: auto;}#sk-container-id-6 input.sk-toggleable__control:checked~label.sk-toggleable__label-arrow:before {content: \"▾\";}#sk-container-id-6 div.sk-estimator input.sk-toggleable__control:checked~label.sk-toggleable__label {background-color: #d4ebff;}#sk-container-id-6 div.sk-label input.sk-toggleable__control:checked~label.sk-toggleable__label {background-color: #d4ebff;}#sk-container-id-6 input.sk-hidden--visually {border: 0;clip: rect(1px 1px 1px 1px);clip: rect(1px, 1px, 1px, 1px);height: 1px;margin: -1px;overflow: hidden;padding: 0;position: absolute;width: 1px;}#sk-container-id-6 div.sk-estimator {font-family: monospace;background-color: #f0f8ff;border: 1px dotted black;border-radius: 0.25em;box-sizing: border-box;margin-bottom: 0.5em;}#sk-container-id-6 div.sk-estimator:hover {background-color: #d4ebff;}#sk-container-id-6 div.sk-parallel-item::after {content: \"\";width: 100%;border-bottom: 1px solid gray;flex-grow: 1;}#sk-container-id-6 div.sk-label:hover label.sk-toggleable__label {background-color: #d4ebff;}#sk-container-id-6 div.sk-serial::before {content: \"\";position: absolute;border-left: 1px solid gray;box-sizing: border-box;top: 0;bottom: 0;left: 50%;z-index: 0;}#sk-container-id-6 div.sk-serial {display: flex;flex-direction: column;align-items: center;background-color: white;padding-right: 0.2em;padding-left: 0.2em;position: relative;}#sk-container-id-6 div.sk-item {position: relative;z-index: 1;}#sk-container-id-6 div.sk-parallel {display: flex;align-items: stretch;justify-content: center;background-color: white;position: relative;}#sk-container-id-6 div.sk-item::before, #sk-container-id-6 div.sk-parallel-item::before {content: \"\";position: absolute;border-left: 1px solid gray;box-sizing: border-box;top: 0;bottom: 0;left: 50%;z-index: -1;}#sk-container-id-6 div.sk-parallel-item {display: flex;flex-direction: column;z-index: 1;position: relative;background-color: white;}#sk-container-id-6 div.sk-parallel-item:first-child::after {align-self: flex-end;width: 50%;}#sk-container-id-6 div.sk-parallel-item:last-child::after {align-self: flex-start;width: 50%;}#sk-container-id-6 div.sk-parallel-item:only-child::after {width: 0;}#sk-container-id-6 div.sk-dashed-wrapped {border: 1px dashed gray;margin: 0 0.4em 0.5em 0.4em;box-sizing: border-box;padding-bottom: 0.4em;background-color: white;}#sk-container-id-6 div.sk-label label {font-family: monospace;font-weight: bold;display: inline-block;line-height: 1.2em;}#sk-container-id-6 div.sk-label-container {text-align: center;}#sk-container-id-6 div.sk-container {/* jupyter's `normalize.less` sets `[hidden] { display: none; }` but bootstrap.min.css set `[hidden] { display: none !important; }` so we also need the `!important` here to be able to override the default hidden behavior on the sphinx rendered scikit-learn.org. See: https://github.com/scikit-learn/scikit-learn/issues/21755 */display: inline-block !important;position: relative;}#sk-container-id-6 div.sk-text-repr-fallback {display: none;}</style><div id=\"sk-container-id-6\" class=\"sk-top-container\"><div class=\"sk-text-repr-fallback\"><pre>KNeighborsClassifier(metric=&lt;function five_adic_distance_from_matrix at 0x7f7b302abf70&gt;,\n",
       "                     n_neighbors=4)</pre><b>In a Jupyter environment, please rerun this cell to show the HTML representation or trust the notebook. <br />On GitHub, the HTML representation is unable to render, please try loading this page with nbviewer.org.</b></div><div class=\"sk-container\" hidden><div class=\"sk-item\"><div class=\"sk-estimator sk-toggleable\"><input class=\"sk-toggleable__control sk-hidden--visually\" id=\"sk-estimator-id-14\" type=\"checkbox\" checked><label for=\"sk-estimator-id-14\" class=\"sk-toggleable__label sk-toggleable__label-arrow\">KNeighborsClassifier</label><div class=\"sk-toggleable__content\"><pre>KNeighborsClassifier(metric=&lt;function five_adic_distance_from_matrix at 0x7f7b302abf70&gt;,\n",
       "                     n_neighbors=4)</pre></div></div></div></div></div>"
      ],
      "text/plain": [
       "KNeighborsClassifier(metric=<function five_adic_distance_from_matrix at 0x7f7b302abf70>,\n",
       "                     n_neighbors=4)"
      ]
     },
     "execution_count": 23,
     "metadata": {},
     "output_type": "execute_result"
    }
   ],
   "source": [
    "gs.best_estimator_.fit(X_who, y_who)"
   ]
  },
  {
   "cell_type": "code",
   "execution_count": 25,
   "id": "c743f986-1084-4483-bbb6-09fae7e2b409",
   "metadata": {},
   "outputs": [],
   "source": [
    "y_pred = gs.best_estimator_.predict(X_who)"
   ]
  },
  {
   "cell_type": "code",
   "execution_count": 26,
   "id": "2645d76b-5c6e-4f53-9c5b-b2322cbb184b",
   "metadata": {},
   "outputs": [
    {
     "data": {
      "text/plain": [
       "0.9802347127856702"
      ]
     },
     "execution_count": 26,
     "metadata": {},
     "output_type": "execute_result"
    }
   ],
   "source": [
    "accuracy_score(y_who, y_pred)"
   ]
  },
  {
   "cell_type": "code",
   "execution_count": 69,
   "id": "d00999f3-374d-46af-961c-d6a5d5f28384",
   "metadata": {},
   "outputs": [
    {
     "name": "stdout",
     "output_type": "stream",
     "text": [
      "[[1474    1    2    2    5    0   13    0    3    0    0    0    0]\n",
      " [   8 1475    2    0    5    4    0    1    4    0    1    0    0]\n",
      " [   1    8 1480    1    1    0    0    0    8    0    0    1    0]\n",
      " [   3    1    4 1479    3    3    0    0    4    1    0    1    1]\n",
      " [   2    1    2    2 1487    2    0    0    2    1    1    0    0]\n",
      " [   5    9    6    2    3 1464    5    0    4    0    2    0    0]\n",
      " [   1    3    0    0    0    0  458    1    4    0    0    0    0]\n",
      " [   1    6    0    0    0    1    0  148    1    0    0    0    0]\n",
      " [   1    1    5    3    0    0    0    1  575    0    0    0    0]\n",
      " [   4    3    0    0    2    2    2    0    4  611    0    0    0]\n",
      " [   2    1    3    0    3    0    4    0    8    1  388    0    0]\n",
      " [   0    1    7    0    1    0    0    0    1    0    0   55    0]\n",
      " [   0    1    0    0    0    1    1    0    1    1    0    0   15]]\n"
     ]
    }
   ],
   "source": [
    "print(confusion_matrix(y_who,y_pred, labels=y_who.unique()))\n"
   ]
  },
  {
   "cell_type": "code",
   "execution_count": 54,
   "id": "2fc65448-00c2-4fe2-9732-5ff1df3e419f",
   "metadata": {},
   "outputs": [
    {
     "data": {
      "text/plain": [
       "[{'0.9827', 'Alpha'},\n",
       " {'0.9833', 'Delta'},\n",
       " {'0.9867', 'Epsilon'},\n",
       " {'0.9860', 'Gamma'},\n",
       " {'0.9913', 'Iota'},\n",
       " {'0.9760', 'Omicron'},\n",
       " {'0.9807', 'Zeta'},\n",
       " {'0.9427', 'Kappa'},\n",
       " {'0.9812', 'Beta'},\n",
       " {'0.9729', 'Eta'},\n",
       " {'0.9463', 'Lambda'},\n",
       " {'0.8462', 'Mu'},\n",
       " {'0.7500', 'Theta'}]"
      ]
     },
     "execution_count": 54,
     "metadata": {},
     "output_type": "execute_result"
    }
   ],
   "source": [
    "conf_mat = confusion_matrix(y_who,y_pred, labels=y_who.unique())\n",
    "labels = y_who.unique()\n",
    "class_error_rate = []\n",
    "for i in range(len(conf_mat)):\n",
    "    correct = 0\n",
    "    incorrect = 0\n",
    "    for j in range(len(conf_mat[i])):\n",
    "        if i == j:\n",
    "            correct += conf_mat[i][j]\n",
    "        else:\n",
    "            incorrect += conf_mat[i][j]\n",
    "    class_error_rate.append({labels[i], format(correct / (correct + incorrect), '.4f')})\n",
    "class_error_rate"
   ]
  },
  {
   "cell_type": "code",
   "execution_count": null,
   "id": "816bb93d-1333-40c1-9cd9-540e8866d04c",
   "metadata": {},
   "outputs": [],
   "source": []
  }
 ],
 "metadata": {
  "kernelspec": {
   "display_name": "Python 3 (ipykernel)",
   "language": "python",
   "name": "python3"
  },
  "language_info": {
   "codemirror_mode": {
    "name": "ipython",
    "version": 3
   },
   "file_extension": ".py",
   "mimetype": "text/x-python",
   "name": "python",
   "nbconvert_exporter": "python",
   "pygments_lexer": "ipython3",
   "version": "3.8.10"
  }
 },
 "nbformat": 4,
 "nbformat_minor": 5
}
